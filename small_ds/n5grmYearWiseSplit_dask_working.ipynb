{
 "cells": [
  {
   "cell_type": "code",
   "execution_count": 97,
   "metadata": {},
   "outputs": [],
   "source": [
    "from dask import dataframe as dd"
   ]
  },
  {
   "cell_type": "code",
   "execution_count": 98,
   "metadata": {},
   "outputs": [
    {
     "name": "stdout",
     "output_type": "stream",
     "text": [
      "Wall time: 0 ns\n"
     ]
    }
   ],
   "source": [
    "%%time\n",
    "import datetime\n",
    "import os\n",
    "from tqdm import tqdm\n",
    "\n"
   ]
  },
  {
   "cell_type": "code",
   "execution_count": 99,
   "metadata": {},
   "outputs": [
    {
     "name": "stdout",
     "output_type": "stream",
     "text": [
      "Wall time: 0 ns\n"
     ]
    }
   ],
   "source": [
    "\n",
    "\n",
    "%%time\n",
    "def time_exe():\n",
    "    now = datetime.datetime.now()\n",
    "    print (now.strftime(\"%Y-%m-%d %H:%M:%S\"))"
   ]
  },
  {
   "cell_type": "code",
   "execution_count": 100,
   "metadata": {},
   "outputs": [
    {
     "name": "stdout",
     "output_type": "stream",
     "text": [
      "2020-07-05 07:50:08\n"
     ]
    }
   ],
   "source": [
    "time_exe()\n"
   ]
  },
  {
   "cell_type": "code",
   "execution_count": 101,
   "metadata": {},
   "outputs": [],
   "source": [
    "def chunk_filtering_yearwise_data(data_):\n",
    "    return data_[(data_[5]>1994) & (data_[5] <2006)]"
   ]
  },
  {
   "cell_type": "code",
   "execution_count": 102,
   "metadata": {},
   "outputs": [
    {
     "name": "stdout",
     "output_type": "stream",
     "text": [
      "Wall time: 0 ns\n"
     ]
    }
   ],
   "source": [
    "\n",
    "\n",
    "%%time\n",
    "onemb ='googlebooks-eng-all-5gram-20120701-xq'\n"
   ]
  },
  {
   "cell_type": "code",
   "execution_count": 103,
   "metadata": {},
   "outputs": [],
   "source": [
    "dfd = dd.read_csv(onemb,\n",
    "                    usecols=[0,1,2,3,4,5,6,7],\n",
    "                            sep='\\s+',\n",
    "                            header=None, blocksize=64000000,error_bad_lines=False,\n",
    "                            encoding='utf-8',engine='python')"
   ]
  },
  {
   "cell_type": "code",
   "execution_count": 107,
   "metadata": {},
   "outputs": [
    {
     "data": {
      "text/html": [
       "<div>\n",
       "<style scoped>\n",
       "    .dataframe tbody tr th:only-of-type {\n",
       "        vertical-align: middle;\n",
       "    }\n",
       "\n",
       "    .dataframe tbody tr th {\n",
       "        vertical-align: top;\n",
       "    }\n",
       "\n",
       "    .dataframe thead th {\n",
       "        text-align: right;\n",
       "    }\n",
       "</style>\n",
       "<table border=\"1\" class=\"dataframe\">\n",
       "  <thead>\n",
       "    <tr style=\"text-align: right;\">\n",
       "      <th></th>\n",
       "      <th>0</th>\n",
       "      <th>1</th>\n",
       "      <th>2</th>\n",
       "      <th>3</th>\n",
       "      <th>4</th>\n",
       "      <th>5</th>\n",
       "      <th>6</th>\n",
       "      <th>7</th>\n",
       "    </tr>\n",
       "  </thead>\n",
       "  <tbody>\n",
       "    <tr>\n",
       "      <th>0</th>\n",
       "      <td>XQuery_NOUN</td>\n",
       "      <td>,_.</td>\n",
       "      <td>XPath_X</td>\n",
       "      <td>,_.</td>\n",
       "      <td>and_CONJ</td>\n",
       "      <td>2002</td>\n",
       "      <td>7</td>\n",
       "      <td>3</td>\n",
       "    </tr>\n",
       "    <tr>\n",
       "      <th>1</th>\n",
       "      <td>XQuery_NOUN</td>\n",
       "      <td>,_.</td>\n",
       "      <td>XPath_X</td>\n",
       "      <td>,_.</td>\n",
       "      <td>and_CONJ</td>\n",
       "      <td>2004</td>\n",
       "      <td>5</td>\n",
       "      <td>4</td>\n",
       "    </tr>\n",
       "    <tr>\n",
       "      <th>2</th>\n",
       "      <td>XQuery_NOUN</td>\n",
       "      <td>,_.</td>\n",
       "      <td>XPath_X</td>\n",
       "      <td>,_.</td>\n",
       "      <td>and_CONJ</td>\n",
       "      <td>2005</td>\n",
       "      <td>1</td>\n",
       "      <td>1</td>\n",
       "    </tr>\n",
       "    <tr>\n",
       "      <th>3</th>\n",
       "      <td>XQuery_NOUN</td>\n",
       "      <td>,_.</td>\n",
       "      <td>XPath_X</td>\n",
       "      <td>,_.</td>\n",
       "      <td>and_CONJ</td>\n",
       "      <td>2006</td>\n",
       "      <td>18</td>\n",
       "      <td>10</td>\n",
       "    </tr>\n",
       "    <tr>\n",
       "      <th>4</th>\n",
       "      <td>XQuery_NOUN</td>\n",
       "      <td>,_.</td>\n",
       "      <td>XPath_X</td>\n",
       "      <td>,_.</td>\n",
       "      <td>and_CONJ</td>\n",
       "      <td>2007</td>\n",
       "      <td>15</td>\n",
       "      <td>12</td>\n",
       "    </tr>\n",
       "  </tbody>\n",
       "</table>\n",
       "</div>"
      ],
      "text/plain": [
       "             0    1        2    3         4     5   6   7\n",
       "0  XQuery_NOUN  ,_.  XPath_X  ,_.  and_CONJ  2002   7   3\n",
       "1  XQuery_NOUN  ,_.  XPath_X  ,_.  and_CONJ  2004   5   4\n",
       "2  XQuery_NOUN  ,_.  XPath_X  ,_.  and_CONJ  2005   1   1\n",
       "3  XQuery_NOUN  ,_.  XPath_X  ,_.  and_CONJ  2006  18  10\n",
       "4  XQuery_NOUN  ,_.  XPath_X  ,_.  and_CONJ  2007  15  12"
      ]
     },
     "execution_count": 107,
     "metadata": {},
     "output_type": "execute_result"
    }
   ],
   "source": [
    "dfd.head(5)"
   ]
  },
  {
   "cell_type": "code",
   "execution_count": 111,
   "metadata": {},
   "outputs": [
    {
     "name": "stdout",
     "output_type": "stream",
     "text": [
      "dd.Scalar<series-..., dtype=int64>\n"
     ]
    }
   ],
   "source": [
    "print(dfd[6].sum())"
   ]
  },
  {
   "cell_type": "code",
   "execution_count": 9,
   "metadata": {},
   "outputs": [],
   "source": [
    "#dfd[5].isna().sum().compute()"
   ]
  },
  {
   "cell_type": "code",
   "execution_count": 10,
   "metadata": {},
   "outputs": [
    {
     "data": {
      "text/plain": [
       "2005    30\n",
       "2003    29\n",
       "2006    28\n",
       "2008    26\n",
       "2007    26\n",
       "2004    26\n",
       "2002    26\n",
       "2001    21\n",
       "1999    14\n",
       "2000    11\n",
       "1996    10\n",
       "1998     9\n",
       "1995     8\n",
       "1984     6\n",
       "1991     6\n",
       "1994     6\n",
       "1997     6\n",
       "1990     4\n",
       "1989     4\n",
       "1987     4\n",
       "1985     4\n",
       "1992     4\n",
       "1982     4\n",
       "1993     2\n",
       "1979     2\n",
       "1961     2\n",
       "1962     2\n",
       "1965     2\n",
       "1976     2\n",
       "1983     2\n",
       "1980     2\n",
       "1981     2\n",
       "1986     2\n",
       "1988     2\n",
       "1957     2\n",
       "Name: 5, dtype: int64"
      ]
     },
     "execution_count": 10,
     "metadata": {},
     "output_type": "execute_result"
    }
   ],
   "source": [
    " dfd[5].value_counts().compute()"
   ]
  },
  {
   "cell_type": "code",
   "execution_count": 11,
   "metadata": {},
   "outputs": [],
   "source": [
    "import matplotlib.pyplot as plt\n",
    "import seaborn as sns"
   ]
  },
  {
   "cell_type": "code",
   "execution_count": 12,
   "metadata": {},
   "outputs": [],
   "source": [
    "dfd95_2005 = dfd[(dfd[5]>1994) & (dfd[5]<2006)]"
   ]
  },
  {
   "cell_type": "code",
   "execution_count": 13,
   "metadata": {},
   "outputs": [],
   "source": [
    " year_count  = dfd95_2005[5].value_counts().compute()"
   ]
  },
  {
   "cell_type": "code",
   "execution_count": 14,
   "metadata": {},
   "outputs": [
    {
     "data": {
      "image/png": "[encoded data removed]",
      "text/plain": [
       "<Figure size 1800x360 with 1 Axes>"
      ]
     },
     "metadata": {
      "needs_background": "light"
     },
     "output_type": "display_data"
    }
   ],
   "source": [
    "\n",
    "#city_count = city_count[:10,]\n",
    "plt.figure(figsize=(25,5))\n",
    "sns.barplot(year_count.index, year_count.values, alpha=0.8)\n",
    "plt.title('Words count year wise')\n",
    "plt.ylabel('Number of Words', fontsize=12)\n",
    "plt.xlabel('Years', fontsize=12)\n",
    "plt.show()"
   ]
  },
  {
   "cell_type": "markdown",
   "metadata": {},
   "source": [
    "# String count 'The' for each  year"
   ]
  },
  {
   "cell_type": "code",
   "execution_count": 92,
   "metadata": {},
   "outputs": [],
   "source": [
    "#df[df['ids'].str.contains(\"ball\")]\n",
    "dfs = pd.DataFrame([['HELLO', 'world'],['Help','Heep']], columns=['words','letters'])"
   ]
  },
  {
   "cell_type": "code",
   "execution_count": 93,
   "metadata": {},
   "outputs": [
    {
     "data": {
      "text/html": [
       "<div>\n",
       "<style scoped>\n",
       "    .dataframe tbody tr th:only-of-type {\n",
       "        vertical-align: middle;\n",
       "    }\n",
       "\n",
       "    .dataframe tbody tr th {\n",
       "        vertical-align: top;\n",
       "    }\n",
       "\n",
       "    .dataframe thead th {\n",
       "        text-align: right;\n",
       "    }\n",
       "</style>\n",
       "<table border=\"1\" class=\"dataframe\">\n",
       "  <thead>\n",
       "    <tr style=\"text-align: right;\">\n",
       "      <th></th>\n",
       "      <th>words</th>\n",
       "      <th>letters</th>\n",
       "    </tr>\n",
       "  </thead>\n",
       "  <tbody>\n",
       "    <tr>\n",
       "      <th>0</th>\n",
       "      <td>HELLO</td>\n",
       "      <td>world</td>\n",
       "    </tr>\n",
       "    <tr>\n",
       "      <th>1</th>\n",
       "      <td>Help</td>\n",
       "      <td>Heep</td>\n",
       "    </tr>\n",
       "  </tbody>\n",
       "</table>\n",
       "</div>"
      ],
      "text/plain": [
       "   words letters\n",
       "0  HELLO   world\n",
       "1   Help    Heep"
      ]
     },
     "execution_count": 93,
     "metadata": {},
     "output_type": "execute_result"
    }
   ],
   "source": [
    "dfs.head()"
   ]
  },
  {
   "cell_type": "code",
   "execution_count": 94,
   "metadata": {},
   "outputs": [
    {
     "data": {
      "text/plain": [
       "0    0\n",
       "1    0\n",
       "Name: words, dtype: int64"
      ]
     },
     "execution_count": 94,
     "metadata": {},
     "output_type": "execute_result"
    }
   ],
   "source": [
    "dfs.words.str.count(\"he|wo\")"
   ]
  },
  {
   "cell_type": "code",
   "execution_count": 95,
   "metadata": {},
   "outputs": [
    {
     "data": {
      "text/plain": [
       "2"
      ]
     },
     "execution_count": 95,
     "metadata": {},
     "output_type": "execute_result"
    }
   ],
   "source": [
    "dfs['words'].str.contains('he', case=False).sum()"
   ]
  },
  {
   "cell_type": "code",
   "execution_count": 96,
   "metadata": {},
   "outputs": [
    {
     "data": {
      "text/plain": [
       "2"
      ]
     },
     "execution_count": 96,
     "metadata": {},
     "output_type": "execute_result"
    }
   ],
   "source": [
    "dfs.apply(lambda r: r.str.contains('he', case=False).any(), axis=1).sum()\n"
   ]
  },
  {
   "cell_type": "code",
   "execution_count": null,
   "metadata": {},
   "outputs": [],
   "source": [
    "dfd95_2005"
   ]
  },
  {
   "cell_type": "code",
   "execution_count": 15,
   "metadata": {},
   "outputs": [],
   "source": [
    "#df.drop([c for c in df.columns if df[c].isna().any().compute()], axis = 1)\n",
    "#dfd[0]=dfd[0].str.lower()\n"
   ]
  },
  {
   "cell_type": "code",
   "execution_count": 16,
   "metadata": {},
   "outputs": [],
   "source": [
    "#df.x.value_counts()\n",
    "#dfd[5].value_counts().compute()"
   ]
  },
  {
   "cell_type": "code",
   "execution_count": 17,
   "metadata": {},
   "outputs": [
    {
     "data": {
      "text/html": [
       "<div>\n",
       "<style scoped>\n",
       "    .dataframe tbody tr th:only-of-type {\n",
       "        vertical-align: middle;\n",
       "    }\n",
       "\n",
       "    .dataframe tbody tr th {\n",
       "        vertical-align: top;\n",
       "    }\n",
       "\n",
       "    .dataframe thead th {\n",
       "        text-align: right;\n",
       "    }\n",
       "</style>\n",
       "<table border=\"1\" class=\"dataframe\">\n",
       "  <thead>\n",
       "    <tr style=\"text-align: right;\">\n",
       "      <th></th>\n",
       "      <th>0</th>\n",
       "      <th>1</th>\n",
       "      <th>2</th>\n",
       "      <th>3</th>\n",
       "      <th>4</th>\n",
       "      <th>5</th>\n",
       "    </tr>\n",
       "  </thead>\n",
       "  <tbody>\n",
       "    <tr>\n",
       "      <th>331</th>\n",
       "      <td>XQuery</td>\n",
       "      <td>1.0</td>\n",
       "      <td>:</td>\n",
       "      <td>An</td>\n",
       "      <td>XML</td>\n",
       "      <td>2004</td>\n",
       "    </tr>\n",
       "    <tr>\n",
       "      <th>332</th>\n",
       "      <td>XQuery</td>\n",
       "      <td>1.0</td>\n",
       "      <td>:</td>\n",
       "      <td>An</td>\n",
       "      <td>XML</td>\n",
       "      <td>2005</td>\n",
       "    </tr>\n",
       "    <tr>\n",
       "      <th>333</th>\n",
       "      <td>XQuery</td>\n",
       "      <td>1.0</td>\n",
       "      <td>:</td>\n",
       "      <td>An</td>\n",
       "      <td>XML</td>\n",
       "      <td>2006</td>\n",
       "    </tr>\n",
       "    <tr>\n",
       "      <th>334</th>\n",
       "      <td>XQuery</td>\n",
       "      <td>1.0</td>\n",
       "      <td>:</td>\n",
       "      <td>An</td>\n",
       "      <td>XML</td>\n",
       "      <td>2007</td>\n",
       "    </tr>\n",
       "    <tr>\n",
       "      <th>335</th>\n",
       "      <td>XQuery</td>\n",
       "      <td>1.0</td>\n",
       "      <td>:</td>\n",
       "      <td>An</td>\n",
       "      <td>XML</td>\n",
       "      <td>2008</td>\n",
       "    </tr>\n",
       "  </tbody>\n",
       "</table>\n",
       "</div>"
      ],
      "text/plain": [
       "          0    1  2   3    4     5\n",
       "331  XQuery  1.0  :  An  XML  2004\n",
       "332  XQuery  1.0  :  An  XML  2005\n",
       "333  XQuery  1.0  :  An  XML  2006\n",
       "334  XQuery  1.0  :  An  XML  2007\n",
       "335  XQuery  1.0  :  An  XML  2008"
      ]
     },
     "execution_count": 17,
     "metadata": {},
     "output_type": "execute_result"
    }
   ],
   "source": [
    "dfd.tail()\n"
   ]
  },
  {
   "cell_type": "code",
   "execution_count": 18,
   "metadata": {},
   "outputs": [],
   "source": [
    "start = 1995\n",
    "end = 2005\n",
    "step = 1"
   ]
  },
  {
   "cell_type": "code",
   "execution_count": 19,
   "metadata": {},
   "outputs": [],
   "source": [
    "import os"
   ]
  },
  {
   "cell_type": "code",
   "execution_count": 20,
   "metadata": {},
   "outputs": [
    {
     "name": "stdout",
     "output_type": "stream",
     "text": [
      " Volume in drive E is Daat\n",
      " Volume Serial Number is 00E8-39C4\n",
      "\n",
      " Directory of E:\\download\\proj\\n5grm\\small_ds\n",
      "\n",
      "07/04/2020  12:49 PM    <DIR>          .\n",
      "07/04/2020  12:49 PM    <DIR>          ..\n",
      "07/04/2020  11:10 AM    <DIR>          .ipynb_checkpoints\n",
      "07/02/2020  11:23 AM    <DIR>          dd1995_2005\n",
      "07/02/2020  06:52 PM    <DIR>          googlebooks-eng-all-5gram-20120701-co_1995_2005_pyarrow\n",
      "06/23/2020  11:17 AM            10,307 googlebooks-eng-all-5gram-20120701-gq\n",
      "06/23/2020  11:20 AM     1,098,745,074 googlebooks-eng-all-5gram-20120701-gu\n",
      "06/24/2020  03:31 PM         4,388,595 googlebooks-eng-all-5gram-20120701-np\n",
      "06/24/2020  06:48 PM            13,833 googlebooks-eng-all-5gram-20120701-xq\n",
      "07/04/2020  12:49 PM             4,838 n5grmYearWisePlot.ipynb\n",
      "07/02/2020  11:08 PM             4,704 n5grmYearWiseSplit_dask.ipynb\n",
      "07/03/2020  08:00 PM             1,887 n5grmYearWiseSplit_dask.py\n",
      "07/04/2020  12:47 PM            62,850 n5grmYearWiseSplit_dask_working.ipynb\n",
      "07/04/2020  12:10 PM             5,059 n5grmYearWiseSplit_dask_working.py\n",
      "07/03/2020  11:49 AM            14,653 n5grmYearWiseSplit_dask_working-Copy1.ipynb\n",
      "07/02/2020  11:33 PM    <DIR>          scripts\n",
      "07/03/2020  02:29 PM           376,747 small_ds.7z\n",
      "07/02/2020  02:35 PM            53,969 Untitled.ipynb\n",
      "07/02/2020  09:23 PM            18,926 usingDask.ipynb\n",
      "07/04/2020  12:08 PM    <DIR>          yearwise\n",
      "              13 File(s)  1,103,701,442 bytes\n",
      "               7 Dir(s)  1,548,465,184,768 bytes free\n"
     ]
    }
   ],
   "source": [
    "ls"
   ]
  },
  {
   "cell_type": "code",
   "execution_count": 21,
   "metadata": {},
   "outputs": [],
   "source": [
    "folderpath = 'yearwise'"
   ]
  },
  {
   "cell_type": "code",
   "execution_count": null,
   "metadata": {},
   "outputs": [],
   "source": []
  },
  {
   "cell_type": "code",
   "execution_count": null,
   "metadata": {},
   "outputs": [],
   "source": []
  },
  {
   "cell_type": "markdown",
   "metadata": {},
   "source": [
    "# writnd 1995 to 2005 in single parque"
   ]
  },
  {
   "cell_type": "markdown",
   "metadata": {},
   "source": [
    "year_dd.shape[0].compute()"
   ]
  },
  {
   "cell_type": "code",
   "execution_count": 22,
   "metadata": {},
   "outputs": [],
   "source": [
    " year_dd = dfd[ (dfd[5]>1994)&(dfd[5]<2006)]"
   ]
  },
  {
   "cell_type": "code",
   "execution_count": 23,
   "metadata": {},
   "outputs": [
    {
     "name": "stdout",
     "output_type": "stream",
     "text": [
      "yearwise\\1995_2005\\googlebooks-eng-all-5gram-20120701-xq\n"
     ]
    }
   ],
   "source": [
    "path = os.path.join(folderpath,\"1995_2005\",onemb)\n",
    "print(path)"
   ]
  },
  {
   "cell_type": "code",
   "execution_count": 24,
   "metadata": {},
   "outputs": [],
   "source": [
    "year_dd.to_parquet(path,engine='pyarrow')"
   ]
  },
  {
   "cell_type": "markdown",
   "metadata": {},
   "source": [
    "# reading single parquet file"
   ]
  },
  {
   "cell_type": "code",
   "execution_count": 25,
   "metadata": {},
   "outputs": [],
   "source": [
    "read_year_dd = dd.read_parquet(path, engine='pyarrow')"
   ]
  },
  {
   "cell_type": "code",
   "execution_count": 26,
   "metadata": {},
   "outputs": [],
   "source": [
    "#convert dask data frame to pandas data frame\n",
    "read_year_ddf = read_year_dd.compute()"
   ]
  },
  {
   "cell_type": "markdown",
   "metadata": {},
   "source": [
    "# plot graph after eading data from parquet"
   ]
  },
  {
   "cell_type": "code",
   "execution_count": 27,
   "metadata": {},
   "outputs": [
    {
     "data": {
      "text/html": [
       "<div>\n",
       "<style scoped>\n",
       "    .dataframe tbody tr th:only-of-type {\n",
       "        vertical-align: middle;\n",
       "    }\n",
       "\n",
       "    .dataframe tbody tr th {\n",
       "        vertical-align: top;\n",
       "    }\n",
       "\n",
       "    .dataframe thead th {\n",
       "        text-align: right;\n",
       "    }\n",
       "</style>\n",
       "<table border=\"1\" class=\"dataframe\">\n",
       "  <thead>\n",
       "    <tr style=\"text-align: right;\">\n",
       "      <th></th>\n",
       "      <th>0</th>\n",
       "      <th>1</th>\n",
       "      <th>2</th>\n",
       "      <th>3</th>\n",
       "      <th>4</th>\n",
       "      <th>5</th>\n",
       "    </tr>\n",
       "    <tr>\n",
       "      <th>index</th>\n",
       "      <th></th>\n",
       "      <th></th>\n",
       "      <th></th>\n",
       "      <th></th>\n",
       "      <th></th>\n",
       "      <th></th>\n",
       "    </tr>\n",
       "  </thead>\n",
       "  <tbody>\n",
       "    <tr>\n",
       "      <th>0</th>\n",
       "      <td>XQuery_NOUN</td>\n",
       "      <td>,_.</td>\n",
       "      <td>XPath_X</td>\n",
       "      <td>,_.</td>\n",
       "      <td>and_CONJ</td>\n",
       "      <td>2002</td>\n",
       "    </tr>\n",
       "    <tr>\n",
       "      <th>1</th>\n",
       "      <td>XQuery_NOUN</td>\n",
       "      <td>,_.</td>\n",
       "      <td>XPath_X</td>\n",
       "      <td>,_.</td>\n",
       "      <td>and_CONJ</td>\n",
       "      <td>2004</td>\n",
       "    </tr>\n",
       "    <tr>\n",
       "      <th>2</th>\n",
       "      <td>XQuery_NOUN</td>\n",
       "      <td>,_.</td>\n",
       "      <td>XPath_X</td>\n",
       "      <td>,_.</td>\n",
       "      <td>and_CONJ</td>\n",
       "      <td>2005</td>\n",
       "    </tr>\n",
       "    <tr>\n",
       "      <th>6</th>\n",
       "      <td>Xq28_NOUN</td>\n",
       "      <td>in_ADP</td>\n",
       "      <td>males_NOUN</td>\n",
       "      <td>but_CONJ</td>\n",
       "      <td>not_ADV</td>\n",
       "      <td>1996</td>\n",
       "    </tr>\n",
       "    <tr>\n",
       "      <th>7</th>\n",
       "      <td>Xq28_NOUN</td>\n",
       "      <td>in_ADP</td>\n",
       "      <td>males_NOUN</td>\n",
       "      <td>but_CONJ</td>\n",
       "      <td>not_ADV</td>\n",
       "      <td>1997</td>\n",
       "    </tr>\n",
       "  </tbody>\n",
       "</table>\n",
       "</div>"
      ],
      "text/plain": [
       "                 0       1           2         3         4     5\n",
       "index                                                           \n",
       "0      XQuery_NOUN     ,_.     XPath_X       ,_.  and_CONJ  2002\n",
       "1      XQuery_NOUN     ,_.     XPath_X       ,_.  and_CONJ  2004\n",
       "2      XQuery_NOUN     ,_.     XPath_X       ,_.  and_CONJ  2005\n",
       "6        Xq28_NOUN  in_ADP  males_NOUN  but_CONJ   not_ADV  1996\n",
       "7        Xq28_NOUN  in_ADP  males_NOUN  but_CONJ   not_ADV  1997"
      ]
     },
     "execution_count": 27,
     "metadata": {},
     "output_type": "execute_result"
    }
   ],
   "source": [
    "read_year_ddf.head()"
   ]
  },
  {
   "cell_type": "markdown",
   "metadata": {},
   "source": [
    "for index, row in read_year_ddf.iterrows(): \n",
    "    print (row[0], row[5]) "
   ]
  },
  {
   "cell_type": "markdown",
   "metadata": {},
   "source": [
    "for i in range(len(read_year_ddf)) : \n",
    "  print(read_year_ddf.iloc[i, 0], read_year_ddf.iloc[i, 2])"
   ]
  },
  {
   "cell_type": "code",
   "execution_count": null,
   "metadata": {},
   "outputs": [],
   "source": []
  },
  {
   "cell_type": "code",
   "execution_count": 28,
   "metadata": {},
   "outputs": [
    {
     "data": {
      "text/plain": [
       "2005    30\n",
       "2003    29\n",
       "2004    26\n",
       "2002    26\n",
       "2001    21\n",
       "1999    14\n",
       "2000    11\n",
       "1996    10\n",
       "1998     9\n",
       "1995     8\n",
       "1997     6\n",
       "Name: 5, dtype: int64"
      ]
     },
     "execution_count": 28,
     "metadata": {},
     "output_type": "execute_result"
    }
   ],
   "source": [
    "read_year_ddf.iloc[:,5].value_counts()"
   ]
  },
  {
   "cell_type": "code",
   "execution_count": 29,
   "metadata": {},
   "outputs": [
    {
     "data": {
      "image/png": "[encoded data removed]",
      "text/plain": [
       "<Figure size 1800x360 with 1 Axes>"
      ]
     },
     "metadata": {
      "needs_background": "light"
     },
     "output_type": "display_data"
    }
   ],
   "source": [
    "read_year_count = read_year_ddf.iloc[:,5].value_counts()\n",
    "plt.figure(figsize=(25,5))\n",
    "sns.barplot(read_year_count.index, read_year_count.values, alpha=0.8)\n",
    "plt.title('Words count year wise')\n",
    "plt.ylabel('Number of Words', fontsize=12)\n",
    "plt.xlabel('Years', fontsize=12)\n",
    "plt.show()"
   ]
  },
  {
   "cell_type": "markdown",
   "metadata": {},
   "source": [
    "year_dd.to_parquet('googlebooks-eng-all-5gram-20120701-co_1995_2005_pyarrow',engine='pyarrow')"
   ]
  },
  {
   "cell_type": "code",
   "execution_count": 30,
   "metadata": {},
   "outputs": [],
   "source": [
    "def split_data_year_wise(startyear,stopyear,yearsetp,basepath):\n",
    "    print(\"start time\")\n",
    "    time_exe()\n",
    "    stopyear= stopyear+1\n",
    "    for i in range(startyear, stopyear, yearsetp):\n",
    "        year_dd = dfd[dfd[5]==i]\n",
    "        path = os.path.join(basepath,str(i),onemb)\n",
    "        if not os.path.exists(path):\n",
    "            os.makedirs(path)\n",
    "        print(\"{}=>{}\".format(i,path))\n",
    "        year_dd.to_parquet(path,engine='pyarrow')\n",
    "        #year_dd.to_csv(path)\n",
    "        del year_dd\n",
    "    print(\"finisheed time\")\n",
    "    time_exe()"
   ]
  },
  {
   "cell_type": "markdown",
   "metadata": {},
   "source": [
    "def split_data_year_wise(startyear,stopyear,yearsetp,basepath):\n",
    "    print('im in')\n",
    "    print(startyear)\n",
    "    print(stopyear)\n",
    "    for i in range(startyear, stopyear, yearsetp):\n",
    "        print(i)"
   ]
  },
  {
   "cell_type": "code",
   "execution_count": 31,
   "metadata": {},
   "outputs": [
    {
     "name": "stdout",
     "output_type": "stream",
     "text": [
      "start time\n",
      "2020-07-04 12:51:41\n",
      "1995=>yearwise\\1995\\googlebooks-eng-all-5gram-20120701-xq\n",
      "1996=>yearwise\\1996\\googlebooks-eng-all-5gram-20120701-xq\n",
      "1997=>yearwise\\1997\\googlebooks-eng-all-5gram-20120701-xq\n",
      "1998=>yearwise\\1998\\googlebooks-eng-all-5gram-20120701-xq\n",
      "1999=>yearwise\\1999\\googlebooks-eng-all-5gram-20120701-xq\n",
      "2000=>yearwise\\2000\\googlebooks-eng-all-5gram-20120701-xq\n",
      "2001=>yearwise\\2001\\googlebooks-eng-all-5gram-20120701-xq\n",
      "2002=>yearwise\\2002\\googlebooks-eng-all-5gram-20120701-xq\n",
      "2003=>yearwise\\2003\\googlebooks-eng-all-5gram-20120701-xq\n",
      "2004=>yearwise\\2004\\googlebooks-eng-all-5gram-20120701-xq\n",
      "2005=>yearwise\\2005\\googlebooks-eng-all-5gram-20120701-xq\n",
      "finisheed time\n",
      "2020-07-04 12:51:42\n"
     ]
    }
   ],
   "source": [
    "split_data_year_wise(start,end,step,folderpath)"
   ]
  },
  {
   "cell_type": "code",
   "execution_count": null,
   "metadata": {},
   "outputs": [],
   "source": []
  },
  {
   "cell_type": "code",
   "execution_count": 32,
   "metadata": {},
   "outputs": [
    {
     "data": {
      "text/html": [
       "<div>\n",
       "<style scoped>\n",
       "    .dataframe tbody tr th:only-of-type {\n",
       "        vertical-align: middle;\n",
       "    }\n",
       "\n",
       "    .dataframe tbody tr th {\n",
       "        vertical-align: top;\n",
       "    }\n",
       "\n",
       "    .dataframe thead th {\n",
       "        text-align: right;\n",
       "    }\n",
       "</style>\n",
       "<table border=\"1\" class=\"dataframe\">\n",
       "  <thead>\n",
       "    <tr style=\"text-align: right;\">\n",
       "      <th></th>\n",
       "      <th>0</th>\n",
       "      <th>1</th>\n",
       "      <th>2</th>\n",
       "      <th>3</th>\n",
       "      <th>4</th>\n",
       "      <th>5</th>\n",
       "    </tr>\n",
       "  </thead>\n",
       "  <tbody>\n",
       "    <tr>\n",
       "      <th>0</th>\n",
       "      <td>XQuery_NOUN</td>\n",
       "      <td>,_.</td>\n",
       "      <td>XPath_X</td>\n",
       "      <td>,_.</td>\n",
       "      <td>and_CONJ</td>\n",
       "      <td>2002</td>\n",
       "    </tr>\n",
       "    <tr>\n",
       "      <th>1</th>\n",
       "      <td>XQuery_NOUN</td>\n",
       "      <td>,_.</td>\n",
       "      <td>XPath_X</td>\n",
       "      <td>,_.</td>\n",
       "      <td>and_CONJ</td>\n",
       "      <td>2004</td>\n",
       "    </tr>\n",
       "    <tr>\n",
       "      <th>2</th>\n",
       "      <td>XQuery_NOUN</td>\n",
       "      <td>,_.</td>\n",
       "      <td>XPath_X</td>\n",
       "      <td>,_.</td>\n",
       "      <td>and_CONJ</td>\n",
       "      <td>2005</td>\n",
       "    </tr>\n",
       "    <tr>\n",
       "      <th>6</th>\n",
       "      <td>Xq28_NOUN</td>\n",
       "      <td>in_ADP</td>\n",
       "      <td>males_NOUN</td>\n",
       "      <td>but_CONJ</td>\n",
       "      <td>not_ADV</td>\n",
       "      <td>1996</td>\n",
       "    </tr>\n",
       "    <tr>\n",
       "      <th>7</th>\n",
       "      <td>Xq28_NOUN</td>\n",
       "      <td>in_ADP</td>\n",
       "      <td>males_NOUN</td>\n",
       "      <td>but_CONJ</td>\n",
       "      <td>not_ADV</td>\n",
       "      <td>1997</td>\n",
       "    </tr>\n",
       "  </tbody>\n",
       "</table>\n",
       "</div>"
      ],
      "text/plain": [
       "             0       1           2         3         4     5\n",
       "0  XQuery_NOUN     ,_.     XPath_X       ,_.  and_CONJ  2002\n",
       "1  XQuery_NOUN     ,_.     XPath_X       ,_.  and_CONJ  2004\n",
       "2  XQuery_NOUN     ,_.     XPath_X       ,_.  and_CONJ  2005\n",
       "6    Xq28_NOUN  in_ADP  males_NOUN  but_CONJ   not_ADV  1996\n",
       "7    Xq28_NOUN  in_ADP  males_NOUN  but_CONJ   not_ADV  1997"
      ]
     },
     "execution_count": 32,
     "metadata": {},
     "output_type": "execute_result"
    }
   ],
   "source": [
    "year_dd.head()"
   ]
  },
  {
   "cell_type": "code",
   "execution_count": null,
   "metadata": {},
   "outputs": [],
   "source": []
  },
  {
   "cell_type": "markdown",
   "metadata": {},
   "source": [
    "# REading parquet file"
   ]
  },
  {
   "cell_type": "code",
   "execution_count": 33,
   "metadata": {},
   "outputs": [],
   "source": [
    "from os import listdir\n",
    "from os.path import isfile, join"
   ]
  },
  {
   "cell_type": "code",
   "execution_count": 34,
   "metadata": {},
   "outputs": [
    {
     "data": {
      "text/plain": [
       "True"
      ]
     },
     "execution_count": 34,
     "metadata": {},
     "output_type": "execute_result"
    }
   ],
   "source": [
    "'google' in 'yearwise\\1995\\googlebooks-eng-all-5gram-20120701-xq' "
   ]
  },
  {
   "cell_type": "code",
   "execution_count": 35,
   "metadata": {},
   "outputs": [],
   "source": [
    "def fast_scandir(dirname):\n",
    "    subfolders= [f.path for f in os.scandir(dirname) if f.is_dir()]\n",
    "    for dirname in list(subfolders):\n",
    "        subfolders.extend(fast_scandir(dirname))\n",
    "    return subfolders"
   ]
  },
  {
   "cell_type": "code",
   "execution_count": 36,
   "metadata": {},
   "outputs": [],
   "source": [
    "dirs = fast_scandir(folderpath)\n",
    "g_dir = []\n",
    "for f in dirs:\n",
    "    if(\"google\" in f):\n",
    "        g_dir.append(f)\n"
   ]
  },
  {
   "cell_type": "code",
   "execution_count": 37,
   "metadata": {},
   "outputs": [
    {
     "data": {
      "text/plain": [
       "['yearwise\\\\1995\\\\googlebooks-eng-all-5gram-20120701-xq',\n",
       " 'yearwise\\\\1995_2005\\\\googlebooks-eng-all-5gram-20120701-xq',\n",
       " 'yearwise\\\\1996\\\\googlebooks-eng-all-5gram-20120701-xq',\n",
       " 'yearwise\\\\1997\\\\googlebooks-eng-all-5gram-20120701-xq',\n",
       " 'yearwise\\\\1998\\\\googlebooks-eng-all-5gram-20120701-xq',\n",
       " 'yearwise\\\\1999\\\\googlebooks-eng-all-5gram-20120701-xq',\n",
       " 'yearwise\\\\2000\\\\googlebooks-eng-all-5gram-20120701-xq',\n",
       " 'yearwise\\\\2001\\\\googlebooks-eng-all-5gram-20120701-xq',\n",
       " 'yearwise\\\\2002\\\\googlebooks-eng-all-5gram-20120701-xq',\n",
       " 'yearwise\\\\2003\\\\googlebooks-eng-all-5gram-20120701-xq',\n",
       " 'yearwise\\\\2004\\\\googlebooks-eng-all-5gram-20120701-xq',\n",
       " 'yearwise\\\\2005\\\\googlebooks-eng-all-5gram-20120701-xq']"
      ]
     },
     "execution_count": 37,
     "metadata": {},
     "output_type": "execute_result"
    }
   ],
   "source": [
    "g_dir"
   ]
  },
  {
   "cell_type": "code",
   "execution_count": 62,
   "metadata": {},
   "outputs": [
    {
     "name": "stdout",
     "output_type": "stream",
     "text": [
      "yearwise\\1995\\googlebooks-eng-all-5gram-20120701-xq\n",
      "yearwise\\1995_2005\\googlebooks-eng-all-5gram-20120701-xq\n",
      "yearwise\\1996\\googlebooks-eng-all-5gram-20120701-xq\n",
      "yearwise\\1997\\googlebooks-eng-all-5gram-20120701-xq\n",
      "yearwise\\1998\\googlebooks-eng-all-5gram-20120701-xq\n",
      "yearwise\\1999\\googlebooks-eng-all-5gram-20120701-xq\n",
      "yearwise\\2000\\googlebooks-eng-all-5gram-20120701-xq\n",
      "yearwise\\2001\\googlebooks-eng-all-5gram-20120701-xq\n",
      "yearwise\\2002\\googlebooks-eng-all-5gram-20120701-xq\n",
      "yearwise\\2003\\googlebooks-eng-all-5gram-20120701-xq\n",
      "yearwise\\2004\\googlebooks-eng-all-5gram-20120701-xq\n",
      "yearwise\\2005\\googlebooks-eng-all-5gram-20120701-xq\n"
     ]
    }
   ],
   "source": [
    "read_dfd ={}\n",
    "i = 0\n",
    "for d  in g_dir:\n",
    "    print(d)\n",
    "    i = i+1\n",
    "    read_dfd[i] = (d, dd.read_parquet(d, engine='pyarrow'))"
   ]
  },
  {
   "cell_type": "code",
   "execution_count": 65,
   "metadata": {},
   "outputs": [],
   "source": [
    "df1 = {}\n",
    "i = 0\n",
    "for k,v in read_dfd.items():\n",
    "    i = i+1\n",
    "    df1[i] = (v[0], v[1].compute())"
   ]
  },
  {
   "cell_type": "code",
   "execution_count": 67,
   "metadata": {},
   "outputs": [
    {
     "name": "stdout",
     "output_type": "stream",
     "text": [
      "yearwise\\1995\\googlebooks-eng-all-5gram-20120701-xq\n",
      "1995    336819\n",
      "Name: 5, dtype: int64\n",
      "yearwise\\1995_2005\\googlebooks-eng-all-5gram-20120701-xq\n",
      "2005    30\n",
      "2003    29\n",
      "2004    26\n",
      "2002    26\n",
      "2001    21\n",
      "1999    14\n",
      "2000    11\n",
      "1996    10\n",
      "1998     9\n",
      "1995     8\n",
      "1997     6\n",
      "Name: 5, dtype: int64\n",
      "yearwise\\1996\\googlebooks-eng-all-5gram-20120701-xq\n",
      "1996    3635\n",
      "Name: 5, dtype: int64\n",
      "yearwise\\1997\\googlebooks-eng-all-5gram-20120701-xq\n",
      "1997    6\n",
      "Name: 5, dtype: int64\n",
      "yearwise\\1998\\googlebooks-eng-all-5gram-20120701-xq\n",
      "1998    9\n",
      "Name: 5, dtype: int64\n",
      "yearwise\\1999\\googlebooks-eng-all-5gram-20120701-xq\n",
      "1999    14\n",
      "Name: 5, dtype: int64\n",
      "yearwise\\2000\\googlebooks-eng-all-5gram-20120701-xq\n",
      "2000    11\n",
      "Name: 5, dtype: int64\n",
      "yearwise\\2001\\googlebooks-eng-all-5gram-20120701-xq\n",
      "2001    21\n",
      "Name: 5, dtype: int64\n",
      "yearwise\\2002\\googlebooks-eng-all-5gram-20120701-xq\n",
      "2002    26\n",
      "Name: 5, dtype: int64\n",
      "yearwise\\2003\\googlebooks-eng-all-5gram-20120701-xq\n",
      "2003    29\n",
      "Name: 5, dtype: int64\n",
      "yearwise\\2004\\googlebooks-eng-all-5gram-20120701-xq\n",
      "2004    26\n",
      "Name: 5, dtype: int64\n",
      "yearwise\\2005\\googlebooks-eng-all-5gram-20120701-xq\n",
      "2005    30\n",
      "Name: 5, dtype: int64\n"
     ]
    }
   ],
   "source": [
    "for k,v in df1.items():\n",
    "    print(v[0])\n",
    "    print(v[1].iloc[:,5].value_counts())"
   ]
  },
  {
   "cell_type": "code",
   "execution_count": 70,
   "metadata": {},
   "outputs": [
    {
     "data": {
      "text/plain": [
       "('yearwise\\\\1995\\\\googlebooks-eng-all-5gram-20120701-xq',\n",
       "                 0            1          2             3        4     5\n",
       " index                                                                 \n",
       " 19             XQ            ,         et            al        .  1995\n",
       " 53        XQ_NOUN          ,_.       et_X          al_X      ._.  1995\n",
       " 158          Xq27      fragile       site             .    _END_  1995\n",
       " 181     Xq27_NOUN  fragile_ADJ  site_NOUN           ._.    _END_  1995\n",
       " 233            Xq           is        the    wavelength       of  1995\n",
       " ...           ...          ...        ...           ...      ...   ...\n",
       " 239658       guys           in        the          same     room  1995\n",
       " 239728       guys         want         to            go     back  1995\n",
       " 239765  guys_NOUN          ,_.        \"_.       one_NUM   of_ADP  1995\n",
       " 239793  guys_NOUN     are_VERB    not_ADV  allowed_VERB   to_PRT  1995\n",
       " 239813  guys_NOUN      do_VERB    not_ADV     know_VERB  me_PRON  1995\n",
       " \n",
       " [336819 rows x 6 columns])"
      ]
     },
     "execution_count": 70,
     "metadata": {},
     "output_type": "execute_result"
    }
   ],
   "source": [
    "df1.get(1)"
   ]
  },
  {
   "cell_type": "code",
   "execution_count": null,
   "metadata": {},
   "outputs": [],
   "source": []
  },
  {
   "cell_type": "code",
   "execution_count": null,
   "metadata": {},
   "outputs": [],
   "source": []
  },
  {
   "cell_type": "code",
   "execution_count": 41,
   "metadata": {},
   "outputs": [],
   "source": [
    "import pandas as pd"
   ]
  },
  {
   "cell_type": "code",
   "execution_count": 42,
   "metadata": {},
   "outputs": [],
   "source": [
    "df1= read_dfd.compute()"
   ]
  },
  {
   "cell_type": "code",
   "execution_count": 43,
   "metadata": {},
   "outputs": [
    {
     "data": {
      "text/html": [
       "<div>\n",
       "<style scoped>\n",
       "    .dataframe tbody tr th:only-of-type {\n",
       "        vertical-align: middle;\n",
       "    }\n",
       "\n",
       "    .dataframe tbody tr th {\n",
       "        vertical-align: top;\n",
       "    }\n",
       "\n",
       "    .dataframe thead th {\n",
       "        text-align: right;\n",
       "    }\n",
       "</style>\n",
       "<table border=\"1\" class=\"dataframe\">\n",
       "  <thead>\n",
       "    <tr style=\"text-align: right;\">\n",
       "      <th></th>\n",
       "      <th>0</th>\n",
       "      <th>1</th>\n",
       "      <th>2</th>\n",
       "      <th>3</th>\n",
       "      <th>4</th>\n",
       "      <th>5</th>\n",
       "    </tr>\n",
       "    <tr>\n",
       "      <th>index</th>\n",
       "      <th></th>\n",
       "      <th></th>\n",
       "      <th></th>\n",
       "      <th></th>\n",
       "      <th></th>\n",
       "      <th></th>\n",
       "    </tr>\n",
       "  </thead>\n",
       "  <tbody>\n",
       "    <tr>\n",
       "      <th>19</th>\n",
       "      <td>XQ</td>\n",
       "      <td>,</td>\n",
       "      <td>et</td>\n",
       "      <td>al</td>\n",
       "      <td>.</td>\n",
       "      <td>1995</td>\n",
       "    </tr>\n",
       "    <tr>\n",
       "      <th>53</th>\n",
       "      <td>XQ_NOUN</td>\n",
       "      <td>,_.</td>\n",
       "      <td>et_X</td>\n",
       "      <td>al_X</td>\n",
       "      <td>._.</td>\n",
       "      <td>1995</td>\n",
       "    </tr>\n",
       "    <tr>\n",
       "      <th>158</th>\n",
       "      <td>Xq27</td>\n",
       "      <td>fragile</td>\n",
       "      <td>site</td>\n",
       "      <td>.</td>\n",
       "      <td>_END_</td>\n",
       "      <td>1995</td>\n",
       "    </tr>\n",
       "    <tr>\n",
       "      <th>181</th>\n",
       "      <td>Xq27_NOUN</td>\n",
       "      <td>fragile_ADJ</td>\n",
       "      <td>site_NOUN</td>\n",
       "      <td>._.</td>\n",
       "      <td>_END_</td>\n",
       "      <td>1995</td>\n",
       "    </tr>\n",
       "    <tr>\n",
       "      <th>233</th>\n",
       "      <td>Xq</td>\n",
       "      <td>is</td>\n",
       "      <td>the</td>\n",
       "      <td>wavelength</td>\n",
       "      <td>of</td>\n",
       "      <td>1995</td>\n",
       "    </tr>\n",
       "  </tbody>\n",
       "</table>\n",
       "</div>"
      ],
      "text/plain": [
       "               0            1          2           3      4     5\n",
       "index                                                            \n",
       "19            XQ            ,         et          al      .  1995\n",
       "53       XQ_NOUN          ,_.       et_X        al_X    ._.  1995\n",
       "158         Xq27      fragile       site           .  _END_  1995\n",
       "181    Xq27_NOUN  fragile_ADJ  site_NOUN         ._.  _END_  1995\n",
       "233           Xq           is        the  wavelength     of  1995"
      ]
     },
     "execution_count": 43,
     "metadata": {},
     "output_type": "execute_result"
    }
   ],
   "source": [
    "df1.head()"
   ]
  },
  {
   "cell_type": "code",
   "execution_count": null,
   "metadata": {},
   "outputs": [],
   "source": []
  },
  {
   "cell_type": "markdown",
   "metadata": {},
   "source": [
    " year_dd = dd[dd[5]==1996]"
   ]
  },
  {
   "cell_type": "markdown",
   "metadata": {},
   "source": [
    "year_dd.head()"
   ]
  },
  {
   "cell_type": "markdown",
   "metadata": {},
   "source": [
    "dd.tail()"
   ]
  },
  {
   "cell_type": "code",
   "execution_count": 112,
   "metadata": {},
   "outputs": [],
   "source": [
    "#!jupyter nbconvert --to script n5grmYearWiseSplit_dask_working.ipynb"
   ]
  },
  {
   "cell_type": "code",
   "execution_count": 115,
   "metadata": {},
   "outputs": [
    {
     "name": "stdout",
     "output_type": "stream",
     "text": [
      "1995\n",
      "1996\n",
      "1997\n",
      "1998\n",
      "1999\n",
      "2000\n",
      "2001\n",
      "2002\n",
      "2003\n",
      "2004\n",
      "2005\n"
     ]
    }
   ],
   "source": [
    "for i in range (1995,2006):\n",
    "    print(i)\n",
    "    "
   ]
  },
  {
   "cell_type": "markdown",
   "metadata": {},
   "source": [
    "dd.shape[0].compute()"
   ]
  },
  {
   "cell_type": "markdown",
   "metadata": {},
   "source": [
    "top_links_grouped_dask = dfd.loc[\n",
    "    dfd[‘referrer_type’].isin([‘link’]), \n",
    "    [‘coming_from’,’article’, ‘n’]]\\\n",
    "        .groupby([‘coming_from’, ‘article’])"
   ]
  },
  {
   "cell_type": "markdown",
   "metadata": {},
   "source": [
    "#d1 = dd.loc[dd['0']].groupby(['5'])\n",
    "dd.groupby([5])[6].count().compute()"
   ]
  }
 ],
 "metadata": {
  "kernelspec": {
   "display_name": "Python 3",
   "language": "python",
   "name": "python3"
  },
  "language_info": {
   "codemirror_mode": {
    "name": "ipython",
    "version": 3
   },
   "file_extension": ".py",
   "mimetype": "text/x-python",
   "name": "python",
   "nbconvert_exporter": "python",
   "pygments_lexer": "ipython3",
   "version": "3.7.6"
  }
 },
 "nbformat": 4,
 "nbformat_minor": 4
}
