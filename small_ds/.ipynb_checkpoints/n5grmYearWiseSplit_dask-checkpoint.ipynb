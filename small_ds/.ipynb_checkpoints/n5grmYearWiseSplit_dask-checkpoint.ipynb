{
 "cells": [
  {
   "cell_type": "code",
   "execution_count": 1,
   "metadata": {},
   "outputs": [],
   "source": [
    "from dask import dataframe as dd"
   ]
  },
  {
   "cell_type": "code",
   "execution_count": 2,
   "metadata": {},
   "outputs": [],
   "source": [
    "import datetime\n"
   ]
  },
  {
   "cell_type": "code",
   "execution_count": 3,
   "metadata": {},
   "outputs": [],
   "source": [
    "def time_exe():\n",
    "    now = datetime.datetime.now()\n",
    "    print (now.strftime(\"%Y-%m-%d %H:%M:%S\"))"
   ]
  },
  {
   "cell_type": "code",
   "execution_count": 4,
   "metadata": {},
   "outputs": [
    {
     "name": "stdout",
     "output_type": "stream",
     "text": [
      "2020-07-02 22:57:03\n"
     ]
    }
   ],
   "source": [
    "time_exe()\n"
   ]
  },
  {
   "cell_type": "code",
   "execution_count": 5,
   "metadata": {},
   "outputs": [],
   "source": [
    "def chunk_filtering_yearwise_data(data_):\n",
    "    return data_[(data_[5]>1994) & (data_[5] <2006)]"
   ]
  },
  {
   "cell_type": "code",
   "execution_count": 6,
   "metadata": {},
   "outputs": [],
   "source": [
    "chunksize = 64000000*8 #64000000 is equl to 64 MB, making it as around 512 mb "
   ]
  },
  {
   "cell_type": "code",
   "execution_count": 14,
   "metadata": {},
   "outputs": [],
   "source": [
    "original_files_dir = \"E:/download/eng-all-5gram-2012-extracted/11/\"\n",
    "dataset_path = \"E:/download/proj/n5grm/small_ds/yearwise/\""
   ]
  },
  {
   "cell_type": "code",
   "execution_count": 8,
   "metadata": {},
   "outputs": [],
   "source": [
    "import os\n",
    "start = 1995\n",
    "end = 2005\n",
    "step = 1"
   ]
  },
  {
   "cell_type": "code",
   "execution_count": 9,
   "metadata": {},
   "outputs": [],
   "source": [
    "folderpath = 'yearwise'"
   ]
  },
  {
   "cell_type": "code",
   "execution_count": 10,
   "metadata": {},
   "outputs": [],
   "source": [
    "def split_data_year_wise(startyear,stopyear,yearsetp,basepath,fname):\n",
    "    print(\"start time\")\n",
    "    time_exe()\n",
    "    stopyear= stopyear+1\n",
    "    for i in range(startyear, stopyear, yearsetp):\n",
    "        year_dd = dd[dd[5]==i]\n",
    "        path = os.path.join(basepath,str(i),fname)\n",
    "        if not os.path.exists(path):\n",
    "            os.makedirs(path)\n",
    "        print(path)\n",
    "        year_dd.to_parquet(path,engine='pyarrow')\n",
    "        #year_dd.to_csv(path)\n",
    "    print(\"finisheed time\")\n",
    "    time_exe()"
   ]
  },
  {
   "cell_type": "code",
   "execution_count": 15,
   "metadata": {},
   "outputs": [
    {
     "name": "stdout",
     "output_type": "stream",
     "text": [
      "file processing started googlebooks-eng-all-5gram-20120701-bb\n",
      "file processing started googlebooks-eng-all-5gram-20120701-bd\n",
      "file processing started googlebooks-eng-all-5gram-20120701-bf\n",
      "file processing started googlebooks-eng-all-5gram-20120701-bg\n",
      "file processing started googlebooks-eng-all-5gram-20120701-bj\n",
      "file processing started googlebooks-eng-all-5gram-20120701-bk\n",
      "file processing started googlebooks-eng-all-5gram-20120701-bm\n",
      "file processing started googlebooks-eng-all-5gram-20120701-bp\n",
      "file processing started googlebooks-eng-all-5gram-20120701-bq\n",
      "file processing started googlebooks-eng-all-5gram-20120701-bs\n",
      "file processing started googlebooks-eng-all-5gram-20120701-bt\n",
      "file processing started googlebooks-eng-all-5gram-20120701-bv\n",
      "file processing started googlebooks-eng-all-5gram-20120701-bw\n",
      "file processing started googlebooks-eng-all-5gram-20120701-bz\n",
      "file processing started googlebooks-eng-all-5gram-20120701-cg\n",
      "file processing started googlebooks-eng-all-5gram-20120701-cj\n",
      "file processing started googlebooks-eng-all-5gram-20120701-ck\n",
      "file processing started googlebooks-eng-all-5gram-20120701-cq\n",
      "file processing started googlebooks-eng-all-5gram-20120701-cw\n",
      "file processing started googlebooks-eng-all-5gram-20120701-db\n",
      "file processing started googlebooks-eng-all-5gram-20120701-df\n",
      "file processing started googlebooks-eng-all-5gram-20120701-dg\n",
      "file processing started googlebooks-eng-all-5gram-20120701-dj\n",
      "file processing started googlebooks-eng-all-5gram-20120701-dk\n",
      "file processing started googlebooks-eng-all-5gram-20120701-dm\n",
      "file processing started googlebooks-eng-all-5gram-20120701-dp\n",
      "file processing started googlebooks-eng-all-5gram-20120701-dq\n",
      "file processing started googlebooks-eng-all-5gram-20120701-dt\n",
      "file processing started googlebooks-eng-all-5gram-20120701-dz\n",
      "file processing started googlebooks-eng-all-5gram-20120701-fb\n",
      "file processing started googlebooks-eng-all-5gram-20120701-fc\n",
      "file processing started googlebooks-eng-all-5gram-20120701-fd\n",
      "file processing started googlebooks-eng-all-5gram-20120701-ff\n",
      "file processing started googlebooks-eng-all-5gram-20120701-fg\n",
      "file processing started googlebooks-eng-all-5gram-20120701-fh\n",
      "file processing started googlebooks-eng-all-5gram-20120701-fj\n",
      "file processing started googlebooks-eng-all-5gram-20120701-fk\n",
      "file processing started googlebooks-eng-all-5gram-20120701-fm\n",
      "file processing started googlebooks-eng-all-5gram-20120701-fp\n",
      "file processing started googlebooks-eng-all-5gram-20120701-fq\n",
      "file processing started googlebooks-eng-all-5gram-20120701-fs\n",
      "file processing started googlebooks-eng-all-5gram-20120701-fv\n",
      "file processing started googlebooks-eng-all-5gram-20120701-fw\n",
      "file processing started googlebooks-eng-all-5gram-20120701-fy\n",
      "file processing started googlebooks-eng-all-5gram-20120701-fz\n",
      "file processing started googlebooks-eng-all-5gram-20120701-gb\n",
      "file processing started googlebooks-eng-all-5gram-20120701-gc\n",
      "file processing started googlebooks-eng-all-5gram-20120701-gf\n",
      "file processing started googlebooks-eng-all-5gram-20120701-gg\n",
      "file processing started googlebooks-eng-all-5gram-20120701-gj\n",
      "file processing started googlebooks-eng-all-5gram-20120701-gk\n",
      "file processing started googlebooks-eng-all-5gram-20120701-gm\n",
      "file processing started googlebooks-eng-all-5gram-20120701-gp\n",
      "file processing started googlebooks-eng-all-5gram-20120701-gq\n",
      "file processing started googlebooks-eng-all-5gram-20120701-gs\n",
      "file processing started googlebooks-eng-all-5gram-20120701-gt\n",
      "file processing started googlebooks-eng-all-5gram-20120701-gv\n",
      "file processing started googlebooks-eng-all-5gram-20120701-gx\n",
      "file processing started googlebooks-eng-all-5gram-20120701-gz\n",
      "file processing started googlebooks-eng-all-5gram-20120701-hb\n",
      "file processing started googlebooks-eng-all-5gram-20120701-hc\n",
      "file processing started googlebooks-eng-all-5gram-20120701-hd\n",
      "file processing started googlebooks-eng-all-5gram-20120701-hf\n",
      "file processing started googlebooks-eng-all-5gram-20120701-hg\n",
      "file processing started googlebooks-eng-all-5gram-20120701-hh\n",
      "file processing started googlebooks-eng-all-5gram-20120701-hj\n",
      "file processing started googlebooks-eng-all-5gram-20120701-hk\n",
      "file processing started googlebooks-eng-all-5gram-20120701-hl\n",
      "file processing started googlebooks-eng-all-5gram-20120701-hp\n",
      "file processing started googlebooks-eng-all-5gram-20120701-hq\n",
      "file processing started googlebooks-eng-all-5gram-20120701-ht\n",
      "file processing started googlebooks-eng-all-5gram-20120701-hv\n",
      "file processing started googlebooks-eng-all-5gram-20120701-hw\n",
      "file processing started googlebooks-eng-all-5gram-20120701-hz\n",
      "file processing started googlebooks-eng-all-5gram-20120701-ih\n",
      "file processing started googlebooks-eng-all-5gram-20120701-ij\n",
      "file processing started googlebooks-eng-all-5gram-20120701-ik\n",
      "file processing started googlebooks-eng-all-5gram-20120701-iq\n",
      "file processing started googlebooks-eng-all-5gram-20120701-iw\n",
      "file processing started googlebooks-eng-all-5gram-20120701-iy\n",
      "file processing started googlebooks-eng-all-5gram-20120701-iz\n",
      "file processing started googlebooks-eng-all-5gram-20120701-jb\n",
      "file processing started googlebooks-eng-all-5gram-20120701-jc\n",
      "file processing started googlebooks-eng-all-5gram-20120701-jd\n",
      "file processing started googlebooks-eng-all-5gram-20120701-jf\n",
      "file processing started googlebooks-eng-all-5gram-20120701-jg\n",
      "file processing started googlebooks-eng-all-5gram-20120701-jh\n",
      "file processing started googlebooks-eng-all-5gram-20120701-jj\n",
      "file processing started googlebooks-eng-all-5gram-20120701-jk\n",
      "file processing started googlebooks-eng-all-5gram-20120701-jl\n",
      "file processing started googlebooks-eng-all-5gram-20120701-jm\n",
      "file processing started googlebooks-eng-all-5gram-20120701-jp\n",
      "file processing started googlebooks-eng-all-5gram-20120701-jq\n",
      "file processing started googlebooks-eng-all-5gram-20120701-js\n",
      "file processing started googlebooks-eng-all-5gram-20120701-jt\n",
      "file processing started googlebooks-eng-all-5gram-20120701-jv\n",
      "file processing started googlebooks-eng-all-5gram-20120701-jw\n",
      "file processing started googlebooks-eng-all-5gram-20120701-jx\n",
      "file processing started googlebooks-eng-all-5gram-20120701-jy\n",
      "file processing started googlebooks-eng-all-5gram-20120701-jz\n",
      "file processing started googlebooks-eng-all-5gram-20120701-kb\n",
      "file processing started googlebooks-eng-all-5gram-20120701-kc\n",
      "file processing started googlebooks-eng-all-5gram-20120701-kd\n",
      "file processing started googlebooks-eng-all-5gram-20120701-kf\n",
      "file processing started googlebooks-eng-all-5gram-20120701-kj\n",
      "file processing started googlebooks-eng-all-5gram-20120701-kk\n",
      "file processing started googlebooks-eng-all-5gram-20120701-kp\n",
      "file processing started googlebooks-eng-all-5gram-20120701-kq\n",
      "file processing started googlebooks-eng-all-5gram-20120701-ks\n",
      "file processing started googlebooks-eng-all-5gram-20120701-kt\n",
      "file processing started googlebooks-eng-all-5gram-20120701-kv\n",
      "file processing started googlebooks-eng-all-5gram-20120701-kx\n",
      "file processing started googlebooks-eng-all-5gram-20120701-kz\n",
      "file processing started googlebooks-eng-all-5gram-20120701-lc\n",
      "file processing started googlebooks-eng-all-5gram-20120701-lg\n",
      "file processing started googlebooks-eng-all-5gram-20120701-lh\n",
      "file processing started googlebooks-eng-all-5gram-20120701-lj\n",
      "file processing started googlebooks-eng-all-5gram-20120701-lk\n",
      "file processing started googlebooks-eng-all-5gram-20120701-lm\n",
      "file processing started googlebooks-eng-all-5gram-20120701-lq\n",
      "file processing started googlebooks-eng-all-5gram-20120701-lr\n",
      "file processing started googlebooks-eng-all-5gram-20120701-ls\n",
      "file processing started googlebooks-eng-all-5gram-20120701-lw\n",
      "file processing started googlebooks-eng-all-5gram-20120701-lz\n",
      "file processing started googlebooks-eng-all-5gram-20120701-mb\n",
      "file processing started googlebooks-eng-all-5gram-20120701-mf\n",
      "file processing started googlebooks-eng-all-5gram-20120701-mh\n",
      "file processing started googlebooks-eng-all-5gram-20120701-mj\n",
      "file processing started googlebooks-eng-all-5gram-20120701-mk\n",
      "file processing started googlebooks-eng-all-5gram-20120701-mq\n",
      "file processing started googlebooks-eng-all-5gram-20120701-mt\n",
      "file processing started googlebooks-eng-all-5gram-20120701-mw\n",
      "file processing started googlebooks-eng-all-5gram-20120701-mz\n",
      "file processing started googlebooks-eng-all-5gram-20120701-nb\n",
      "file processing started googlebooks-eng-all-5gram-20120701-nf\n",
      "file processing started googlebooks-eng-all-5gram-20120701-nh\n",
      "file processing started googlebooks-eng-all-5gram-20120701-nk\n",
      "file processing started googlebooks-eng-all-5gram-20120701-nl\n",
      "file processing started googlebooks-eng-all-5gram-20120701-nq\n",
      "file processing started googlebooks-eng-all-5gram-20120701-nr\n",
      "file processing started googlebooks-eng-all-5gram-20120701-ns\n",
      "file processing started googlebooks-eng-all-5gram-20120701-nv\n",
      "file processing started googlebooks-eng-all-5gram-20120701-nx\n",
      "file processing started googlebooks-eng-all-5gram-20120701-nz\n",
      "file processing started googlebooks-eng-all-5gram-20120701-oj\n",
      "file processing started googlebooks-eng-all-5gram-20120701-oq\n",
      "file processing started googlebooks-eng-all-5gram-20120701-pb\n",
      "file processing started googlebooks-eng-all-5gram-20120701-pd\n",
      "file processing started googlebooks-eng-all-5gram-20120701-pg\n",
      "file processing started googlebooks-eng-all-5gram-20120701-pj\n",
      "file processing started googlebooks-eng-all-5gram-20120701-pk\n",
      "file processing started googlebooks-eng-all-5gram-20120701-pq\n",
      "file processing started googlebooks-eng-all-5gram-20120701-pw\n",
      "file processing started googlebooks-eng-all-5gram-20120701-pz\n",
      "file processing started googlebooks-eng-all-5gram-20120701-qa\n",
      "file processing started googlebooks-eng-all-5gram-20120701-qb\n",
      "file processing started googlebooks-eng-all-5gram-20120701-qc\n",
      "file processing started googlebooks-eng-all-5gram-20120701-qd\n",
      "file processing started googlebooks-eng-all-5gram-20120701-qe\n",
      "file processing started googlebooks-eng-all-5gram-20120701-qf\n",
      "file processing started googlebooks-eng-all-5gram-20120701-qg\n",
      "file processing started googlebooks-eng-all-5gram-20120701-qh\n",
      "file processing started googlebooks-eng-all-5gram-20120701-qi\n",
      "file processing started googlebooks-eng-all-5gram-20120701-qj\n",
      "file processing started googlebooks-eng-all-5gram-20120701-ql\n",
      "file processing started googlebooks-eng-all-5gram-20120701-qm\n",
      "file processing started googlebooks-eng-all-5gram-20120701-qo\n",
      "file processing started googlebooks-eng-all-5gram-20120701-qp\n",
      "file processing started googlebooks-eng-all-5gram-20120701-qq\n",
      "file processing started googlebooks-eng-all-5gram-20120701-qr\n",
      "file processing started googlebooks-eng-all-5gram-20120701-qs\n",
      "file processing started googlebooks-eng-all-5gram-20120701-qt\n",
      "file processing started googlebooks-eng-all-5gram-20120701-qw\n",
      "file processing started googlebooks-eng-all-5gram-20120701-qx\n",
      "file processing started googlebooks-eng-all-5gram-20120701-qy\n",
      "file processing started googlebooks-eng-all-5gram-20120701-qz\n",
      "file processing started googlebooks-eng-all-5gram-20120701-rb\n",
      "file processing started googlebooks-eng-all-5gram-20120701-rc\n",
      "file processing started googlebooks-eng-all-5gram-20120701-rd\n",
      "file processing started googlebooks-eng-all-5gram-20120701-rf\n",
      "file processing started googlebooks-eng-all-5gram-20120701-rg\n",
      "file processing started googlebooks-eng-all-5gram-20120701-rj\n",
      "file processing started googlebooks-eng-all-5gram-20120701-rk\n",
      "file processing started googlebooks-eng-all-5gram-20120701-rl\n",
      "file processing started googlebooks-eng-all-5gram-20120701-rm\n",
      "file processing started googlebooks-eng-all-5gram-20120701-rq\n",
      "file processing started googlebooks-eng-all-5gram-20120701-rr\n",
      "file processing started googlebooks-eng-all-5gram-20120701-rt\n",
      "file processing started googlebooks-eng-all-5gram-20120701-rv\n",
      "file processing started googlebooks-eng-all-5gram-20120701-rw\n",
      "file processing started googlebooks-eng-all-5gram-20120701-rz\n",
      "file processing started googlebooks-eng-all-5gram-20120701-sb\n",
      "file processing started googlebooks-eng-all-5gram-20120701-sf\n",
      "file processing started googlebooks-eng-all-5gram-20120701-sg\n",
      "file processing started googlebooks-eng-all-5gram-20120701-sj\n",
      "file processing started googlebooks-eng-all-5gram-20120701-sx\n",
      "file processing started googlebooks-eng-all-5gram-20120701-sz\n",
      "file processing started googlebooks-eng-all-5gram-20120701-tb\n",
      "file processing started googlebooks-eng-all-5gram-20120701-td\n",
      "file processing started googlebooks-eng-all-5gram-20120701-tf\n",
      "file processing started googlebooks-eng-all-5gram-20120701-tg\n",
      "file processing started googlebooks-eng-all-5gram-20120701-tj\n",
      "file processing started googlebooks-eng-all-5gram-20120701-tk\n",
      "file processing started googlebooks-eng-all-5gram-20120701-tm\n",
      "file processing started googlebooks-eng-all-5gram-20120701-tq\n",
      "file processing started googlebooks-eng-all-5gram-20120701-tt\n",
      "file processing started googlebooks-eng-all-5gram-20120701-tx\n",
      "file processing started googlebooks-eng-all-5gram-20120701-tz\n",
      "file processing started googlebooks-eng-all-5gram-20120701-ua\n",
      "file processing started googlebooks-eng-all-5gram-20120701-uc\n",
      "file processing started googlebooks-eng-all-5gram-20120701-ue\n",
      "file processing started googlebooks-eng-all-5gram-20120701-uf\n",
      "file processing started googlebooks-eng-all-5gram-20120701-uh\n",
      "file processing started googlebooks-eng-all-5gram-20120701-ui\n",
      "file processing started googlebooks-eng-all-5gram-20120701-uj\n",
      "file processing started googlebooks-eng-all-5gram-20120701-uo\n",
      "file processing started googlebooks-eng-all-5gram-20120701-uq\n",
      "file processing started googlebooks-eng-all-5gram-20120701-uu\n",
      "file processing started googlebooks-eng-all-5gram-20120701-uv\n",
      "file processing started googlebooks-eng-all-5gram-20120701-uw\n",
      "file processing started googlebooks-eng-all-5gram-20120701-ux\n",
      "file processing started googlebooks-eng-all-5gram-20120701-uy\n",
      "file processing started googlebooks-eng-all-5gram-20120701-uz\n",
      "file processing started googlebooks-eng-all-5gram-20120701-vb\n",
      "file processing started googlebooks-eng-all-5gram-20120701-vd\n",
      "file processing started googlebooks-eng-all-5gram-20120701-vf\n",
      "file processing started googlebooks-eng-all-5gram-20120701-vg\n",
      "file processing started googlebooks-eng-all-5gram-20120701-vh\n",
      "file processing started googlebooks-eng-all-5gram-20120701-vj\n",
      "file processing started googlebooks-eng-all-5gram-20120701-vk\n",
      "file processing started googlebooks-eng-all-5gram-20120701-vm\n",
      "file processing started googlebooks-eng-all-5gram-20120701-vp\n",
      "file processing started googlebooks-eng-all-5gram-20120701-vq\n",
      "file processing started googlebooks-eng-all-5gram-20120701-vr\n",
      "file processing started googlebooks-eng-all-5gram-20120701-vt\n",
      "file processing started googlebooks-eng-all-5gram-20120701-vv\n",
      "file processing started googlebooks-eng-all-5gram-20120701-vw\n",
      "file processing started googlebooks-eng-all-5gram-20120701-vx\n",
      "file processing started googlebooks-eng-all-5gram-20120701-vy\n",
      "file processing started googlebooks-eng-all-5gram-20120701-vz\n",
      "file processing started googlebooks-eng-all-5gram-20120701-wb\n",
      "file processing started googlebooks-eng-all-5gram-20120701-wc\n",
      "file processing started googlebooks-eng-all-5gram-20120701-wd\n",
      "file processing started googlebooks-eng-all-5gram-20120701-wf\n",
      "file processing started googlebooks-eng-all-5gram-20120701-wg\n",
      "file processing started googlebooks-eng-all-5gram-20120701-wj\n",
      "file processing started googlebooks-eng-all-5gram-20120701-wk\n",
      "file processing started googlebooks-eng-all-5gram-20120701-wl\n",
      "file processing started googlebooks-eng-all-5gram-20120701-wm\n",
      "file processing started googlebooks-eng-all-5gram-20120701-wp\n",
      "file processing started googlebooks-eng-all-5gram-20120701-wq\n",
      "file processing started googlebooks-eng-all-5gram-20120701-ws\n",
      "file processing started googlebooks-eng-all-5gram-20120701-wt\n",
      "file processing started googlebooks-eng-all-5gram-20120701-wv\n",
      "file processing started googlebooks-eng-all-5gram-20120701-wx\n",
      "file processing started googlebooks-eng-all-5gram-20120701-wz\n",
      "file processing started googlebooks-eng-all-5gram-20120701-xb\n",
      "file processing started googlebooks-eng-all-5gram-20120701-xc\n",
      "file processing started googlebooks-eng-all-5gram-20120701-xd\n",
      "file processing started googlebooks-eng-all-5gram-20120701-xf\n",
      "file processing started googlebooks-eng-all-5gram-20120701-xg\n",
      "file processing started googlebooks-eng-all-5gram-20120701-xh\n",
      "file processing started googlebooks-eng-all-5gram-20120701-xj\n",
      "file processing started googlebooks-eng-all-5gram-20120701-xk\n",
      "file processing started googlebooks-eng-all-5gram-20120701-xm\n",
      "file processing started googlebooks-eng-all-5gram-20120701-xo\n",
      "file processing started googlebooks-eng-all-5gram-20120701-xp\n",
      "file processing started googlebooks-eng-all-5gram-20120701-xq\n",
      "file processing started googlebooks-eng-all-5gram-20120701-xr\n",
      "file processing started googlebooks-eng-all-5gram-20120701-xs\n",
      "file processing started googlebooks-eng-all-5gram-20120701-xt\n",
      "file processing started googlebooks-eng-all-5gram-20120701-xu\n",
      "file processing started googlebooks-eng-all-5gram-20120701-xw\n",
      "file processing started googlebooks-eng-all-5gram-20120701-xy\n",
      "file processing started googlebooks-eng-all-5gram-20120701-xz\n",
      "file processing started googlebooks-eng-all-5gram-20120701-yb\n",
      "file processing started googlebooks-eng-all-5gram-20120701-yc\n",
      "file processing started googlebooks-eng-all-5gram-20120701-yd\n",
      "file processing started googlebooks-eng-all-5gram-20120701-yf\n",
      "file processing started googlebooks-eng-all-5gram-20120701-yg\n",
      "file processing started googlebooks-eng-all-5gram-20120701-yh\n",
      "file processing started googlebooks-eng-all-5gram-20120701-yj\n",
      "file processing started googlebooks-eng-all-5gram-20120701-yk\n",
      "file processing started googlebooks-eng-all-5gram-20120701-yl\n",
      "file processing started googlebooks-eng-all-5gram-20120701-ym\n",
      "file processing started googlebooks-eng-all-5gram-20120701-yq\n",
      "file processing started googlebooks-eng-all-5gram-20120701-yr\n",
      "file processing started googlebooks-eng-all-5gram-20120701-ys\n",
      "file processing started googlebooks-eng-all-5gram-20120701-yt\n",
      "file processing started googlebooks-eng-all-5gram-20120701-yw\n",
      "file processing started googlebooks-eng-all-5gram-20120701-yy\n",
      "file processing started googlebooks-eng-all-5gram-20120701-yz\n",
      "file processing started googlebooks-eng-all-5gram-20120701-zb\n",
      "file processing started googlebooks-eng-all-5gram-20120701-zc\n",
      "file processing started googlebooks-eng-all-5gram-20120701-zd\n",
      "file processing started googlebooks-eng-all-5gram-20120701-zf\n",
      "file processing started googlebooks-eng-all-5gram-20120701-zg\n",
      "file processing started googlebooks-eng-all-5gram-20120701-zh\n",
      "file processing started googlebooks-eng-all-5gram-20120701-zj\n",
      "file processing started googlebooks-eng-all-5gram-20120701-zk\n",
      "file processing started googlebooks-eng-all-5gram-20120701-zl\n",
      "file processing started googlebooks-eng-all-5gram-20120701-zm\n",
      "file processing started googlebooks-eng-all-5gram-20120701-zp\n",
      "file processing started googlebooks-eng-all-5gram-20120701-zq\n",
      "file processing started googlebooks-eng-all-5gram-20120701-zr\n",
      "file processing started googlebooks-eng-all-5gram-20120701-zs\n",
      "file processing started googlebooks-eng-all-5gram-20120701-zt\n",
      "file processing started googlebooks-eng-all-5gram-20120701-zv\n",
      "file processing started googlebooks-eng-all-5gram-20120701-zw\n",
      "file processing started googlebooks-eng-all-5gram-20120701-zx\n",
      "file processing started googlebooks-eng-all-5gram-20120701-zy\n",
      "file processing started googlebooks-eng-all-5gram-20120701-zz\n"
     ]
    }
   ],
   "source": [
    "for filename in os.listdir(original_files_dir):\n",
    "    print(\"file processing started \"+ filename)\n",
    "    dd = dd.read_csv(os.path.join(original_files_dir,filename),\n",
    "                            sep='\\s+',\n",
    "                            header=None, blocksize=chunksize,error_bad_lines=False,\n",
    "                            encoding='utf-8',engine='python')\n",
    "    split_data_year_wise(start,end,step,folderpath,filename)    "
   ]
  },
  {
   "cell_type": "code",
   "execution_count": null,
   "metadata": {},
   "outputs": [],
   "source": []
  },
  {
   "cell_type": "code",
   "execution_count": null,
   "metadata": {},
   "outputs": [],
   "source": [
    "#dd.head()"
   ]
  },
  {
   "cell_type": "code",
   "execution_count": null,
   "metadata": {},
   "outputs": [],
   "source": [
    "#dd.tail()"
   ]
  },
  {
   "cell_type": "code",
   "execution_count": null,
   "metadata": {},
   "outputs": [],
   "source": []
  },
  {
   "cell_type": "code",
   "execution_count": null,
   "metadata": {},
   "outputs": [],
   "source": [
    "#ls"
   ]
  },
  {
   "cell_type": "code",
   "execution_count": null,
   "metadata": {},
   "outputs": [],
   "source": []
  },
  {
   "cell_type": "code",
   "execution_count": null,
   "metadata": {},
   "outputs": [],
   "source": []
  },
  {
   "cell_type": "markdown",
   "metadata": {},
   "source": [
    "year_dd.shape[0].compute()"
   ]
  },
  {
   "cell_type": "markdown",
   "metadata": {},
   "source": [
    "path = os.path.join(folderpath,str(start),onemb)\n",
    "print(path)"
   ]
  },
  {
   "cell_type": "markdown",
   "metadata": {},
   "source": [
    "year_dd.to_parquet(path,engine='pyarrow')"
   ]
  },
  {
   "cell_type": "markdown",
   "metadata": {},
   "source": [
    "year_dd.to_parquet('googlebooks-eng-all-5gram-20120701-co_1995_2005_pyarrow',engine='pyarrow')"
   ]
  },
  {
   "cell_type": "markdown",
   "metadata": {},
   "source": [
    "def split_data_year_wise(startyear,stopyear,yearsetp,basepath):\n",
    "    print('im in')\n",
    "    print(startyear)\n",
    "    print(stopyear)\n",
    "    for i in range(startyear, stopyear, yearsetp):\n",
    "        print(i)"
   ]
  },
  {
   "cell_type": "code",
   "execution_count": null,
   "metadata": {},
   "outputs": [],
   "source": []
  },
  {
   "cell_type": "markdown",
   "metadata": {},
   "source": [
    " year_dd = dd[dd[5]==1996]"
   ]
  },
  {
   "cell_type": "markdown",
   "metadata": {},
   "source": [
    "year_dd.head()"
   ]
  },
  {
   "cell_type": "markdown",
   "metadata": {},
   "source": [
    "dd.tail()"
   ]
  },
  {
   "cell_type": "code",
   "execution_count": null,
   "metadata": {},
   "outputs": [],
   "source": [
    "!jupyter nbconvert --to script n5grmYearWiseSplit_dask.ipynb"
   ]
  },
  {
   "cell_type": "markdown",
   "metadata": {},
   "source": [
    "dd.shape[0].compute()"
   ]
  },
  {
   "cell_type": "markdown",
   "metadata": {},
   "source": [
    "top_links_grouped_dask = dfd.loc[\n",
    "    dfd[‘referrer_type’].isin([‘link’]), \n",
    "    [‘coming_from’,’article’, ‘n’]]\\\n",
    "        .groupby([‘coming_from’, ‘article’])"
   ]
  },
  {
   "cell_type": "markdown",
   "metadata": {},
   "source": [
    "#d1 = dd.loc[dd['0']].groupby(['5'])\n",
    "dd.groupby([5])[6].count().compute()"
   ]
  }
 ],
 "metadata": {
  "kernelspec": {
   "display_name": "Python 3",
   "language": "python",
   "name": "python3"
  },
  "language_info": {
   "codemirror_mode": {
    "name": "ipython",
    "version": 3
   },
   "file_extension": ".py",
   "mimetype": "text/x-python",
   "name": "python",
   "nbconvert_exporter": "python",
   "pygments_lexer": "ipython3",
   "version": "3.7.6"
  }
 },
 "nbformat": 4,
 "nbformat_minor": 4
}
