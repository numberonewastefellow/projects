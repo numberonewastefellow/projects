{
 "cells": [
  {
   "cell_type": "code",
   "execution_count": 1,
   "metadata": {},
   "outputs": [],
   "source": [
    "from dask import dataframe as dd"
   ]
  },
  {
   "cell_type": "code",
   "execution_count": 2,
   "metadata": {},
   "outputs": [],
   "source": [
    "import datetime\n"
   ]
  },
  {
   "cell_type": "code",
   "execution_count": 3,
   "metadata": {},
   "outputs": [],
   "source": [
    "def time_exe():\n",
    "    now = datetime.datetime.now()\n",
    "    print (now.strftime(\"%Y-%m-%d %H:%M:%S\"))"
   ]
  },
  {
   "cell_type": "code",
   "execution_count": 4,
   "metadata": {},
   "outputs": [
    {
     "name": "stdout",
     "output_type": "stream",
     "text": [
      "2020-07-03 11:46:07\n"
     ]
    }
   ],
   "source": [
    "time_exe()\n"
   ]
  },
  {
   "cell_type": "code",
   "execution_count": 5,
   "metadata": {},
   "outputs": [],
   "source": [
    "def chunk_filtering_yearwise_data(data_):\n",
    "    return data_[(data_[5]>1994) & (data_[5] <2006)]"
   ]
  },
  {
   "cell_type": "code",
   "execution_count": 6,
   "metadata": {},
   "outputs": [],
   "source": [
    "onemb ='googlebooks-eng-all-5gram-20120701-xq'\n"
   ]
  },
  {
   "cell_type": "code",
   "execution_count": 7,
   "metadata": {},
   "outputs": [],
   "source": [
    "dd = dd.read_csv(onemb,\n",
    "                            sep='\\s+',\n",
    "                            header=None, blocksize=64000000,error_bad_lines=False,\n",
    "                            encoding='utf-8',engine='python')"
   ]
  },
  {
   "cell_type": "code",
   "execution_count": 8,
   "metadata": {},
   "outputs": [
    {
     "data": {
      "text/html": [
       "<div>\n",
       "<style scoped>\n",
       "    .dataframe tbody tr th:only-of-type {\n",
       "        vertical-align: middle;\n",
       "    }\n",
       "\n",
       "    .dataframe tbody tr th {\n",
       "        vertical-align: top;\n",
       "    }\n",
       "\n",
       "    .dataframe thead th {\n",
       "        text-align: right;\n",
       "    }\n",
       "</style>\n",
       "<table border=\"1\" class=\"dataframe\">\n",
       "  <thead>\n",
       "    <tr style=\"text-align: right;\">\n",
       "      <th></th>\n",
       "      <th>0</th>\n",
       "      <th>1</th>\n",
       "      <th>2</th>\n",
       "      <th>3</th>\n",
       "      <th>4</th>\n",
       "      <th>5</th>\n",
       "      <th>6</th>\n",
       "      <th>7</th>\n",
       "    </tr>\n",
       "  </thead>\n",
       "  <tbody>\n",
       "    <tr>\n",
       "      <th>0</th>\n",
       "      <td>XQuery_NOUN</td>\n",
       "      <td>,_.</td>\n",
       "      <td>XPath_X</td>\n",
       "      <td>,_.</td>\n",
       "      <td>and_CONJ</td>\n",
       "      <td>2002</td>\n",
       "      <td>7</td>\n",
       "      <td>3</td>\n",
       "    </tr>\n",
       "    <tr>\n",
       "      <th>1</th>\n",
       "      <td>XQuery_NOUN</td>\n",
       "      <td>,_.</td>\n",
       "      <td>XPath_X</td>\n",
       "      <td>,_.</td>\n",
       "      <td>and_CONJ</td>\n",
       "      <td>2004</td>\n",
       "      <td>5</td>\n",
       "      <td>4</td>\n",
       "    </tr>\n",
       "    <tr>\n",
       "      <th>2</th>\n",
       "      <td>XQuery_NOUN</td>\n",
       "      <td>,_.</td>\n",
       "      <td>XPath_X</td>\n",
       "      <td>,_.</td>\n",
       "      <td>and_CONJ</td>\n",
       "      <td>2005</td>\n",
       "      <td>1</td>\n",
       "      <td>1</td>\n",
       "    </tr>\n",
       "    <tr>\n",
       "      <th>3</th>\n",
       "      <td>XQuery_NOUN</td>\n",
       "      <td>,_.</td>\n",
       "      <td>XPath_X</td>\n",
       "      <td>,_.</td>\n",
       "      <td>and_CONJ</td>\n",
       "      <td>2006</td>\n",
       "      <td>18</td>\n",
       "      <td>10</td>\n",
       "    </tr>\n",
       "    <tr>\n",
       "      <th>4</th>\n",
       "      <td>XQuery_NOUN</td>\n",
       "      <td>,_.</td>\n",
       "      <td>XPath_X</td>\n",
       "      <td>,_.</td>\n",
       "      <td>and_CONJ</td>\n",
       "      <td>2007</td>\n",
       "      <td>15</td>\n",
       "      <td>12</td>\n",
       "    </tr>\n",
       "  </tbody>\n",
       "</table>\n",
       "</div>"
      ],
      "text/plain": [
       "             0    1        2    3         4     5   6   7\n",
       "0  XQuery_NOUN  ,_.  XPath_X  ,_.  and_CONJ  2002   7   3\n",
       "1  XQuery_NOUN  ,_.  XPath_X  ,_.  and_CONJ  2004   5   4\n",
       "2  XQuery_NOUN  ,_.  XPath_X  ,_.  and_CONJ  2005   1   1\n",
       "3  XQuery_NOUN  ,_.  XPath_X  ,_.  and_CONJ  2006  18  10\n",
       "4  XQuery_NOUN  ,_.  XPath_X  ,_.  and_CONJ  2007  15  12"
      ]
     },
     "execution_count": 8,
     "metadata": {},
     "output_type": "execute_result"
    }
   ],
   "source": [
    "dd.head()"
   ]
  },
  {
   "cell_type": "code",
   "execution_count": 9,
   "metadata": {},
   "outputs": [
    {
     "data": {
      "text/html": [
       "<div>\n",
       "<style scoped>\n",
       "    .dataframe tbody tr th:only-of-type {\n",
       "        vertical-align: middle;\n",
       "    }\n",
       "\n",
       "    .dataframe tbody tr th {\n",
       "        vertical-align: top;\n",
       "    }\n",
       "\n",
       "    .dataframe thead th {\n",
       "        text-align: right;\n",
       "    }\n",
       "</style>\n",
       "<table border=\"1\" class=\"dataframe\">\n",
       "  <thead>\n",
       "    <tr style=\"text-align: right;\">\n",
       "      <th></th>\n",
       "      <th>0</th>\n",
       "      <th>1</th>\n",
       "      <th>2</th>\n",
       "      <th>3</th>\n",
       "      <th>4</th>\n",
       "      <th>5</th>\n",
       "      <th>6</th>\n",
       "      <th>7</th>\n",
       "    </tr>\n",
       "  </thead>\n",
       "  <tbody>\n",
       "    <tr>\n",
       "      <th>331</th>\n",
       "      <td>XQuery</td>\n",
       "      <td>1.0</td>\n",
       "      <td>:</td>\n",
       "      <td>An</td>\n",
       "      <td>XML</td>\n",
       "      <td>2004</td>\n",
       "      <td>77</td>\n",
       "      <td>45</td>\n",
       "    </tr>\n",
       "    <tr>\n",
       "      <th>332</th>\n",
       "      <td>XQuery</td>\n",
       "      <td>1.0</td>\n",
       "      <td>:</td>\n",
       "      <td>An</td>\n",
       "      <td>XML</td>\n",
       "      <td>2005</td>\n",
       "      <td>78</td>\n",
       "      <td>51</td>\n",
       "    </tr>\n",
       "    <tr>\n",
       "      <th>333</th>\n",
       "      <td>XQuery</td>\n",
       "      <td>1.0</td>\n",
       "      <td>:</td>\n",
       "      <td>An</td>\n",
       "      <td>XML</td>\n",
       "      <td>2006</td>\n",
       "      <td>58</td>\n",
       "      <td>37</td>\n",
       "    </tr>\n",
       "    <tr>\n",
       "      <th>334</th>\n",
       "      <td>XQuery</td>\n",
       "      <td>1.0</td>\n",
       "      <td>:</td>\n",
       "      <td>An</td>\n",
       "      <td>XML</td>\n",
       "      <td>2007</td>\n",
       "      <td>38</td>\n",
       "      <td>30</td>\n",
       "    </tr>\n",
       "    <tr>\n",
       "      <th>335</th>\n",
       "      <td>XQuery</td>\n",
       "      <td>1.0</td>\n",
       "      <td>:</td>\n",
       "      <td>An</td>\n",
       "      <td>XML</td>\n",
       "      <td>2008</td>\n",
       "      <td>37</td>\n",
       "      <td>33</td>\n",
       "    </tr>\n",
       "  </tbody>\n",
       "</table>\n",
       "</div>"
      ],
      "text/plain": [
       "          0    1  2   3    4     5   6   7\n",
       "331  XQuery  1.0  :  An  XML  2004  77  45\n",
       "332  XQuery  1.0  :  An  XML  2005  78  51\n",
       "333  XQuery  1.0  :  An  XML  2006  58  37\n",
       "334  XQuery  1.0  :  An  XML  2007  38  30\n",
       "335  XQuery  1.0  :  An  XML  2008  37  33"
      ]
     },
     "execution_count": 9,
     "metadata": {},
     "output_type": "execute_result"
    }
   ],
   "source": [
    "dd.tail()"
   ]
  },
  {
   "cell_type": "code",
   "execution_count": 10,
   "metadata": {},
   "outputs": [],
   "source": [
    "start = 1995\n",
    "end = 2005\n",
    "step = 1"
   ]
  },
  {
   "cell_type": "code",
   "execution_count": 11,
   "metadata": {},
   "outputs": [],
   "source": [
    "import os"
   ]
  },
  {
   "cell_type": "code",
   "execution_count": 12,
   "metadata": {},
   "outputs": [
    {
     "name": "stdout",
     "output_type": "stream",
     "text": [
      " Volume in drive E is Daat\n",
      " Volume Serial Number is 00E8-39C4\n",
      "\n",
      " Directory of E:\\download\\proj\\n5grm\\small_ds\n",
      "\n",
      "07/02/2020  11:23 PM    <DIR>          .\n",
      "07/02/2020  11:23 PM    <DIR>          ..\n",
      "07/02/2020  10:35 PM    <DIR>          .ipynb_checkpoints\n",
      "07/02/2020  11:23 AM    <DIR>          dd1995_2005\n",
      "07/02/2020  11:57 AM     1,282,253,688 dd1995_2005_fastparquet.hdf\n",
      "07/02/2020  06:52 PM    <DIR>          googlebooks-eng-all-5gram-20120701-co_1995_2005_pyarrow\n",
      "06/23/2020  11:17 AM            10,307 googlebooks-eng-all-5gram-20120701-gq\n",
      "06/23/2020  11:20 AM     1,098,745,074 googlebooks-eng-all-5gram-20120701-gu\n",
      "06/24/2020  03:31 PM         4,388,595 googlebooks-eng-all-5gram-20120701-np\n",
      "06/24/2020  06:48 PM            13,833 googlebooks-eng-all-5gram-20120701-xq\n",
      "07/02/2020  11:08 PM             4,704 n5grmYearWiseSplit_dask.ipynb\n",
      "07/02/2020  11:18 PM             1,707 n5grmYearWiseSplit_dask.py\n",
      "07/02/2020  10:35 PM            14,345 n5grmYearWiseSplit_dask-Copy1.ipynb\n",
      "07/02/2020  11:33 PM    <DIR>          scripts\n",
      "07/02/2020  02:35 PM            53,969 Untitled.ipynb\n",
      "07/02/2020  09:23 PM            18,926 usingDask.ipynb\n",
      "07/03/2020  11:43 AM    <DIR>          yearwise\n",
      "              10 File(s)  2,385,505,148 bytes\n",
      "               7 Dir(s)  1,547,340,054,528 bytes free\n"
     ]
    }
   ],
   "source": [
    "ls"
   ]
  },
  {
   "cell_type": "code",
   "execution_count": 13,
   "metadata": {},
   "outputs": [],
   "source": [
    "folderpath = 'yearwise'"
   ]
  },
  {
   "cell_type": "code",
   "execution_count": null,
   "metadata": {},
   "outputs": [],
   "source": []
  },
  {
   "cell_type": "code",
   "execution_count": null,
   "metadata": {},
   "outputs": [],
   "source": []
  },
  {
   "cell_type": "markdown",
   "metadata": {},
   "source": [
    "year_dd.shape[0].compute()"
   ]
  },
  {
   "cell_type": "markdown",
   "metadata": {},
   "source": [
    "path = os.path.join(folderpath,str(start),onemb)\n",
    "print(path)"
   ]
  },
  {
   "cell_type": "markdown",
   "metadata": {},
   "source": [
    "year_dd.to_parquet(path,engine='pyarrow')"
   ]
  },
  {
   "cell_type": "markdown",
   "metadata": {},
   "source": [
    "year_dd.to_parquet('googlebooks-eng-all-5gram-20120701-co_1995_2005_pyarrow',engine='pyarrow')"
   ]
  },
  {
   "cell_type": "code",
   "execution_count": 19,
   "metadata": {},
   "outputs": [],
   "source": [
    "def split_data_year_wise(startyear,stopyear,yearsetp,basepath):\n",
    "    print(\"start time\")\n",
    "    time_exe()\n",
    "    stopyear= stopyear+1\n",
    "    for i in range(startyear, stopyear, yearsetp):\n",
    "        year_dd = dd[dd[5]==i]\n",
    "        path = os.path.join(basepath,str(i),onemb)\n",
    "        if not os.path.exists(path):\n",
    "            os.makedirs(path)\n",
    "        print(\"{}=>{}\".format(i,path))\n",
    "        year_dd.to_parquet(path,engine='pyarrow')\n",
    "        #year_dd.to_csv(path)\n",
    "    print(\"finisheed time\")\n",
    "    time_exe()"
   ]
  },
  {
   "cell_type": "markdown",
   "metadata": {},
   "source": [
    "def split_data_year_wise(startyear,stopyear,yearsetp,basepath):\n",
    "    print('im in')\n",
    "    print(startyear)\n",
    "    print(stopyear)\n",
    "    for i in range(startyear, stopyear, yearsetp):\n",
    "        print(i)"
   ]
  },
  {
   "cell_type": "code",
   "execution_count": 20,
   "metadata": {},
   "outputs": [
    {
     "name": "stdout",
     "output_type": "stream",
     "text": [
      "start time\n",
      "2020-07-03 11:48:33\n",
      "1995=>yearwise\\1995\\googlebooks-eng-all-5gram-20120701-xq\n",
      "1996=>yearwise\\1996\\googlebooks-eng-all-5gram-20120701-xq\n",
      "1997=>yearwise\\1997\\googlebooks-eng-all-5gram-20120701-xq\n",
      "1998=>yearwise\\1998\\googlebooks-eng-all-5gram-20120701-xq\n",
      "1999=>yearwise\\1999\\googlebooks-eng-all-5gram-20120701-xq\n",
      "2000=>yearwise\\2000\\googlebooks-eng-all-5gram-20120701-xq\n",
      "2001=>yearwise\\2001\\googlebooks-eng-all-5gram-20120701-xq\n",
      "2002=>yearwise\\2002\\googlebooks-eng-all-5gram-20120701-xq\n",
      "2003=>yearwise\\2003\\googlebooks-eng-all-5gram-20120701-xq\n",
      "2004=>yearwise\\2004\\googlebooks-eng-all-5gram-20120701-xq\n",
      "2005=>yearwise\\2005\\googlebooks-eng-all-5gram-20120701-xq\n",
      "finisheed time\n",
      "2020-07-03 11:48:33\n"
     ]
    }
   ],
   "source": [
    "split_data_year_wise(start,end,step,folderpath)"
   ]
  },
  {
   "cell_type": "markdown",
   "metadata": {},
   "source": [
    " year_dd = dd[dd[5]==1996]"
   ]
  },
  {
   "cell_type": "markdown",
   "metadata": {},
   "source": [
    "year_dd.head()"
   ]
  },
  {
   "cell_type": "markdown",
   "metadata": {},
   "source": [
    "dd.tail()"
   ]
  },
  {
   "cell_type": "code",
   "execution_count": null,
   "metadata": {},
   "outputs": [],
   "source": []
  },
  {
   "cell_type": "markdown",
   "metadata": {},
   "source": [
    "dd.shape[0].compute()"
   ]
  },
  {
   "cell_type": "markdown",
   "metadata": {},
   "source": [
    "top_links_grouped_dask = dfd.loc[\n",
    "    dfd[‘referrer_type’].isin([‘link’]), \n",
    "    [‘coming_from’,’article’, ‘n’]]\\\n",
    "        .groupby([‘coming_from’, ‘article’])"
   ]
  },
  {
   "cell_type": "markdown",
   "metadata": {},
   "source": [
    "#d1 = dd.loc[dd['0']].groupby(['5'])\n",
    "dd.groupby([5])[6].count().compute()"
   ]
  }
 ],
 "metadata": {
  "kernelspec": {
   "display_name": "Python 3",
   "language": "python",
   "name": "python3"
  },
  "language_info": {
   "codemirror_mode": {
    "name": "ipython",
    "version": 3
   },
   "file_extension": ".py",
   "mimetype": "text/x-python",
   "name": "python",
   "nbconvert_exporter": "python",
   "pygments_lexer": "ipython3",
   "version": "3.7.6"
  }
 },
 "nbformat": 4,
 "nbformat_minor": 4
}
