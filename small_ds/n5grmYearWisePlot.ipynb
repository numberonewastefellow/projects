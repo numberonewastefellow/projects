{
 "cells": [
  {
   "cell_type": "code",
   "execution_count": 1,
   "metadata": {},
   "outputs": [],
   "source": [
    "from dask import dataframe as dd"
   ]
  },
  {
   "cell_type": "code",
   "execution_count": 2,
   "metadata": {},
   "outputs": [
    {
     "name": "stdout",
     "output_type": "stream",
     "text": [
      "Wall time: 7 ms\n"
     ]
    }
   ],
   "source": [
    "%%time\n",
    "import datetime\n",
    "import os\n",
    "from tqdm import tqdm\n",
    "\n"
   ]
  },
  {
   "cell_type": "code",
   "execution_count": 3,
   "metadata": {},
   "outputs": [
    {
     "name": "stdout",
     "output_type": "stream",
     "text": [
      "Wall time: 0 ns\n"
     ]
    }
   ],
   "source": [
    "\n",
    "\n",
    "%%time\n",
    "def time_exe():\n",
    "    now = datetime.datetime.now()\n",
    "    print (now.strftime(\"%Y-%m-%d %H:%M:%S\"))"
   ]
  },
  {
   "cell_type": "code",
   "execution_count": 4,
   "metadata": {},
   "outputs": [
    {
     "name": "stdout",
     "output_type": "stream",
     "text": [
      "2020-07-04 12:47:29\n"
     ]
    }
   ],
   "source": [
    "time_exe()\n"
   ]
  },
  {
   "cell_type": "code",
   "execution_count": 5,
   "metadata": {},
   "outputs": [],
   "source": [
    "def chunk_filtering_yearwise_data(data_):\n",
    "    return data_[(data_[5]>1994) & (data_[5] <2006)]"
   ]
  },
  {
   "cell_type": "code",
   "execution_count": 6,
   "metadata": {},
   "outputs": [
    {
     "name": "stdout",
     "output_type": "stream",
     "text": [
      "Wall time: 0 ns\n"
     ]
    }
   ],
   "source": [
    "\n",
    "\n",
    "%%time\n",
    "onemb ='googlebooks-eng-all-5gram-20120701-xq'\n",
    "onegb ='googlebooks-eng-all-5gram-20120701-gu'\n"
   ]
  },
  {
   "cell_type": "code",
   "execution_count": 7,
   "metadata": {},
   "outputs": [],
   "source": [
    "dfd = dd.read_csv(onegb,\n",
    "                            sep='\\s+',\n",
    "                            header=None, blocksize=64000000,error_bad_lines=False,\n",
    "                            encoding='utf-8',engine='python')"
   ]
  },
  {
   "cell_type": "code",
   "execution_count": 8,
   "metadata": {},
   "outputs": [],
   "source": [
    "import matplotlib.pyplot as plt\n",
    "import seaborn as sns\n",
    "import pandas as pd"
   ]
  },
  {
   "cell_type": "code",
   "execution_count": 9,
   "metadata": {},
   "outputs": [
    {
     "name": "stdout",
     "output_type": "stream",
     "text": [
      "Wall time: 6min 15s\n"
     ]
    }
   ],
   "source": [
    "%%time\n",
    "dfd_95_2005 = dfd[(dfd[5]>1994) &(dfd[5]<2006)].compute()"
   ]
  },
  {
   "cell_type": "markdown",
   "metadata": {},
   "source": [
    "# word count for each year"
   ]
  },
  {
   "cell_type": "code",
   "execution_count": 10,
   "metadata": {},
   "outputs": [
    {
     "name": "stdout",
     "output_type": "stream",
     "text": [
      "Wall time: 65 ms\n"
     ]
    }
   ],
   "source": [
    "%%time\n",
    "#year_count  = dfd_95_2005[5].value_counts().compute()\n",
    "year_count  = dfd_95_2005[5].value_counts()\n"
   ]
  },
  {
   "cell_type": "code",
   "execution_count": 11,
   "metadata": {},
   "outputs": [
    {
     "data": {
      "image/png": "[encoded data removed]",
      "text/plain": [
       "<Figure size 1800x360 with 1 Axes>"
      ]
     },
     "metadata": {
      "needs_background": "light"
     },
     "output_type": "display_data"
    }
   ],
   "source": [
    "plt.figure(figsize=(25,5))\n",
    "sns.barplot(year_count.index, year_count.values, alpha=0.8)\n",
    "plt.title('Words count year wise')\n",
    "plt.ylabel('Number of Words', fontsize=12)\n",
    "plt.xlabel('Years', fontsize=12)\n",
    "plt.show()"
   ]
  },
  {
   "cell_type": "code",
   "execution_count": null,
   "metadata": {},
   "outputs": [],
   "source": []
  },
  {
   "cell_type": "code",
   "execution_count": 12,
   "metadata": {},
   "outputs": [],
   "source": [
    "def split_data_year_wise(startyear,stopyear,yearsetp,basepath):\n",
    "    print(\"start time\")\n",
    "    time_exe()\n",
    "    stopyear= stopyear+1\n",
    "    for i in range(startyear, stopyear, yearsetp):\n",
    "        year_dd = dfd[dfd[5]==i]\n",
    "        path = os.path.join(basepath,str(i),onegb)\n",
    "        if not os.path.exists(path):\n",
    "            os.makedirs(path)\n",
    "        print(\"{}=>{}\".format(i,path))\n",
    "        year_dd.to_parquet(path,engine='pyarrow')\n",
    "        #year_dd.to_csv(path)\n",
    "        del year_dd\n",
    "    print(\"finisheed time\")\n",
    "    time_exe()\n"
   ]
  },
  {
   "cell_type": "code",
   "execution_count": 13,
   "metadata": {},
   "outputs": [],
   "source": [
    "start = 1995\n",
    "end = 2005\n",
    "step = 1"
   ]
  },
  {
   "cell_type": "code",
   "execution_count": 14,
   "metadata": {},
   "outputs": [],
   "source": [
    "folderpath = 'yearwise'"
   ]
  },
  {
   "cell_type": "code",
   "execution_count": 15,
   "metadata": {},
   "outputs": [
    {
     "name": "stdout",
     "output_type": "stream",
     "text": [
      "start time\n",
      "2020-07-04 12:53:46\n",
      "1995=>yearwise\\1995\\googlebooks-eng-all-5gram-20120701-gu\n",
      "1996=>yearwise\\1996\\googlebooks-eng-all-5gram-20120701-gu\n",
      "1997=>yearwise\\1997\\googlebooks-eng-all-5gram-20120701-gu\n",
      "1998=>yearwise\\1998\\googlebooks-eng-all-5gram-20120701-gu\n",
      "1999=>yearwise\\1999\\googlebooks-eng-all-5gram-20120701-gu\n",
      "2000=>yearwise\\2000\\googlebooks-eng-all-5gram-20120701-gu\n",
      "2001=>yearwise\\2001\\googlebooks-eng-all-5gram-20120701-gu\n",
      "2002=>yearwise\\2002\\googlebooks-eng-all-5gram-20120701-gu\n",
      "2003=>yearwise\\2003\\googlebooks-eng-all-5gram-20120701-gu\n",
      "2004=>yearwise\\2004\\googlebooks-eng-all-5gram-20120701-gu\n",
      "2005=>yearwise\\2005\\googlebooks-eng-all-5gram-20120701-gu\n",
      "finisheed time\n",
      "2020-07-04 14:08:41\n"
     ]
    }
   ],
   "source": [
    "split_data_year_wise(start,end,step,folderpath)"
   ]
  }
 ],
 "metadata": {
  "kernelspec": {
   "display_name": "Python 3",
   "language": "python",
   "name": "python3"
  },
  "language_info": {
   "codemirror_mode": {
    "name": "ipython",
    "version": 3
   },
   "file_extension": ".py",
   "mimetype": "text/x-python",
   "name": "python",
   "nbconvert_exporter": "python",
   "pygments_lexer": "ipython3",
   "version": "3.7.6"
  }
 },
 "nbformat": 4,
 "nbformat_minor": 4
}
