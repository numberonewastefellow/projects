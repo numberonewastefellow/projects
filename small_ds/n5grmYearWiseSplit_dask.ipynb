{
 "cells": [
  {
   "cell_type": "code",
   "execution_count": 1,
   "metadata": {},
   "outputs": [],
   "source": [
    "from dask import dataframe as dd"
   ]
  },
  {
   "cell_type": "code",
   "execution_count": 2,
   "metadata": {},
   "outputs": [],
   "source": [
    "import datetime\n"
   ]
  },
  {
   "cell_type": "code",
   "execution_count": 3,
   "metadata": {},
   "outputs": [],
   "source": [
    "def main():\n",
    "    print(\"Hello World!\")\n",
    "\n"
   ]
  },
  {
   "cell_type": "code",
   "execution_count": 4,
   "metadata": {},
   "outputs": [
    {
     "name": "stdout",
     "output_type": "stream",
     "text": [
      "Hello World!\n"
     ]
    }
   ],
   "source": [
    "if __name__ == \"__main__\":\n",
    "    main()"
   ]
  },
  {
   "cell_type": "code",
   "execution_count": 5,
   "metadata": {},
   "outputs": [],
   "source": [
    "def time_exe():\n",
    "    now = datetime.datetime.now()\n",
    "    print (now.strftime(\"%Y-%m-%d %H:%M:%S\"))"
   ]
  },
  {
   "cell_type": "code",
   "execution_count": 6,
   "metadata": {},
   "outputs": [
    {
     "name": "stdout",
     "output_type": "stream",
     "text": [
      "2020-07-02 23:07:33\n"
     ]
    }
   ],
   "source": [
    "time_exe()\n"
   ]
  },
  {
   "cell_type": "code",
   "execution_count": 7,
   "metadata": {},
   "outputs": [],
   "source": [
    "def chunk_filtering_yearwise_data(data_):\n",
    "    return data_[(data_[5]>1994) & (data_[5] <2006)]"
   ]
  },
  {
   "cell_type": "code",
   "execution_count": 8,
   "metadata": {},
   "outputs": [],
   "source": [
    "chunksize = 64000000*8 #64000000 is equl to 64 MB, making it as around 512 mb "
   ]
  },
  {
   "cell_type": "code",
   "execution_count": 9,
   "metadata": {},
   "outputs": [],
   "source": [
    "original_files_dir = \"E:/download/eng-all-5gram-2012-extracted/11/\"\n",
    "dataset_path = \"E:/download/proj/n5grm/small_ds/yearwise/\""
   ]
  },
  {
   "cell_type": "code",
   "execution_count": 10,
   "metadata": {},
   "outputs": [],
   "source": [
    "import os\n",
    "start = 1995\n",
    "end = 2005\n",
    "step = 1"
   ]
  },
  {
   "cell_type": "code",
   "execution_count": 11,
   "metadata": {},
   "outputs": [],
   "source": [
    "folderpath = 'yearwise'"
   ]
  },
  {
   "cell_type": "code",
   "execution_count": 12,
   "metadata": {},
   "outputs": [],
   "source": [
    "def split_data_year_wise(startyear,stopyear,yearsetp,basepath,fname):\n",
    "    print(\"start time\")\n",
    "    time_exe()\n",
    "    stopyear= stopyear+1\n",
    "    for i in range(startyear, stopyear, yearsetp):\n",
    "        year_dd = dd[dd[5]==i]\n",
    "        path = os.path.join(basepath,str(i),fname)\n",
    "        if not os.path.exists(path):\n",
    "            os.makedirs(path)\n",
    "        print(\"processing year \"+str(i))\n",
    "        year_dd.to_parquet(path,engine='pyarrow')\n",
    "        #year_dd.to_csv(path)\n",
    "    print(\"finisheed time\")\n",
    "    time_exe()"
   ]
  },
  {
   "cell_type": "code",
   "execution_count": 13,
   "metadata": {},
   "outputs": [],
   "source": [
    "def process_start():\n",
    "    for filename in os.listdir(original_files_dir):\n",
    "        print(\"file processing started \"+ filename)\n",
    "        from dask import dataframe as dd\n",
    "        dd = dd.read_csv(os.path.join(original_files_dir,filename),\n",
    "                                sep='\\s+',\n",
    "                                header=None, blocksize=chunksize,error_bad_lines=False,\n",
    "                                encoding='utf-8',engine='python')\n",
    "        split_data_year_wise(start,end,step,folderpath,filename)    "
   ]
  },
  {
   "cell_type": "code",
   "execution_count": null,
   "metadata": {},
   "outputs": [],
   "source": []
  },
  {
   "cell_type": "code",
   "execution_count": 14,
   "metadata": {},
   "outputs": [
    {
     "name": "stderr",
     "output_type": "stream",
     "text": [
      "[NbConvertApp] Converting notebook n5grmYearWiseSplit_dask.ipynb to script\n",
      "[NbConvertApp] Writing 2785 bytes to n5grmYearWiseSplit_dask.py\n"
     ]
    }
   ],
   "source": [
    "!jupyter nbconvert --to script n5grmYearWiseSplit_dask.ipynb"
   ]
  }
 ],
 "metadata": {
  "kernelspec": {
   "display_name": "Python 3",
   "language": "python",
   "name": "python3"
  },
  "language_info": {
   "codemirror_mode": {
    "name": "ipython",
    "version": 3
   },
   "file_extension": ".py",
   "mimetype": "text/x-python",
   "name": "python",
   "nbconvert_exporter": "python",
   "pygments_lexer": "ipython3",
   "version": "3.7.6"
  }
 },
 "nbformat": 4,
 "nbformat_minor": 4
}
