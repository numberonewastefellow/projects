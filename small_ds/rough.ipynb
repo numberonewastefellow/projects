{
 "cells": [
  {
   "cell_type": "code",
   "execution_count": 1,
   "metadata": {},
   "outputs": [],
   "source": [
    "import re\n",
    "\n"
   ]
  },
  {
   "cell_type": "code",
   "execution_count": 2,
   "metadata": {},
   "outputs": [],
   "source": [
    "list = [\"guru99 get\", \"guru99 give\", \"guru Selenium\"]\n"
   ]
  },
  {
   "cell_type": "code",
   "execution_count": 3,
   "metadata": {},
   "outputs": [],
   "source": [
    "for element in list:\n",
    "    z = re.match(\"(g\\w+)\\W(g\\w+)\", element)\n",
    "if z:\n",
    "    print((z.groups()))\n",
    "    \n"
   ]
  },
  {
   "cell_type": "code",
   "execution_count": 62,
   "metadata": {},
   "outputs": [],
   "source": [
    "content = ['there are may ships in the world ', 'there are may ship in the life 1996','there are may ships in the world 1996']\n",
    "patterns = ['1997','shipps','1996']\n"
   ]
  },
  {
   "cell_type": "code",
   "execution_count": 65,
   "metadata": {},
   "outputs": [
    {
     "data": {
      "text/plain": [
       "['there are may ship in the life 1996',\n",
       " 'there are may ships in the world 1996']"
      ]
     },
     "execution_count": 65,
     "metadata": {},
     "output_type": "execute_result"
    }
   ],
   "source": [
    "res = []\n",
    "for text in content:\n",
    "    for pattern in patterns:\n",
    "        if re.findall(pattern, text):\n",
    "           res.append(text)\n",
    "    \n",
    "res"
   ]
  },
  {
   "cell_type": "code",
   "execution_count": 64,
   "metadata": {},
   "outputs": [
    {
     "data": {
      "text/plain": [
       "['there are may ship in the life 1996',\n",
       " 'there are may ships in the world 1996']"
      ]
     },
     "execution_count": 64,
     "metadata": {},
     "output_type": "execute_result"
    }
   ],
   "source": [
    "res"
   ]
  },
  {
   "cell_type": "code",
   "execution_count": 8,
   "metadata": {},
   "outputs": [],
   "source": [
    "abc = 'guru99@google.com, careerguru99@hotmail.com, users@yahoomail.com'\n",
    "emails = re.findall(r'[\\w\\.-]+@[\\w\\.-]+', abc)\n"
   ]
  },
  {
   "cell_type": "code",
   "execution_count": 9,
   "metadata": {},
   "outputs": [
    {
     "name": "stdout",
     "output_type": "stream",
     "text": [
      "guru99@google.com\n",
      "careerguru99@hotmail.com\n",
      "users@yahoomail.com\n"
     ]
    }
   ],
   "source": [
    "for email in emails:\n",
    "    print(email)"
   ]
  },
  {
   "cell_type": "code",
   "execution_count": 67,
   "metadata": {},
   "outputs": [],
   "source": [
    "import re\n",
    "from collections import defaultdict\n"
   ]
  },
  {
   "cell_type": "code",
   "execution_count": 71,
   "metadata": {},
   "outputs": [],
   "source": [
    "path_war_and_peace = 'googlebooks-eng-all-5gram-20120701-gq'\n"
   ]
  },
  {
   "cell_type": "code",
   "execution_count": 89,
   "metadata": {},
   "outputs": [],
   "source": [
    "#regex_prince = r'prince(?:ss)? (\\w+)'\n",
    "#exp = re.compile('AB|AG|AS|Ltd|KB|University')\n",
    "\n",
    "regex ='((?P<line>.*1993.*\\n)|(?P<line2>.*1992.*\\n))' # re.compile(r'1995|1996|1997', re.IGNORECASE)"
   ]
  },
  {
   "cell_type": "code",
   "execution_count": 90,
   "metadata": {},
   "outputs": [],
   "source": [
    "# compiled_regex is a Pattern object\n",
    "compiled_regex = re.compile(regex, re.IGNORECASE)\n"
   ]
  },
  {
   "cell_type": "code",
   "execution_count": 94,
   "metadata": {},
   "outputs": [
    {
     "name": "stdout",
     "output_type": "stream",
     "text": [
      "('GQ : Note on a\\t1992\\t1\\t1\\n', '', 'GQ : Note on a\\t1992\\t1\\t1\\n')\n",
      "('GQ : Note on a\\t1993\\t3\\t3\\n', 'GQ : Note on a\\t1993\\t3\\t3\\n', '')\n",
      "('GQ , Esquire , and\\t1993\\t2\\t2\\n', 'GQ , Esquire , and\\t1993\\t2\\t2\\n', '')\n",
      "('GQ_NOUN ,_. Esquire_NOUN ,_. and_CONJ\\t1993\\t2\\t2\\n', 'GQ_NOUN ,_. Esquire_NOUN ,_. and_CONJ\\t1993\\t2\\t2\\n', '')\n",
      "('GQ , Van Etten RA\\t1992\\t4\\t3\\n', '', 'GQ , Van Etten RA\\t1992\\t4\\t3\\n')\n",
      "('GQ , Van Etten RA\\t1993\\t6\\t4\\n', 'GQ , Van Etten RA\\t1993\\t6\\t4\\n', '')\n",
      "('Gq class of G proteins\\t1992\\t14\\t5\\n', '', 'Gq class of G proteins\\t1992\\t14\\t5\\n')\n",
      "('Gq class of G proteins\\t1993\\t27\\t12\\n', 'Gq class of G proteins\\t1993\\t27\\t12\\n', '')\n",
      "(\"GQ ( Gentlemen 's Quarterly\\t1993\\t1\\t1\\n\", \"GQ ( Gentlemen 's Quarterly\\t1993\\t1\\t1\\n\", '')\n",
      "(\"GQ_NOUN (_. Gentlemen_NOUN 's_PRT Quarterly_ADJ\\t1993\\t1\\t1\\n\", \"GQ_NOUN (_. Gentlemen_NOUN 's_PRT Quarterly_ADJ\\t1993\\t1\\t1\\n\", '')\n",
      "('GQ_NOUN :_. Note_NOUN on_ADP a_DET\\t1992\\t1\\t1\\n', '', 'GQ_NOUN :_. Note_NOUN on_ADP a_DET\\t1992\\t1\\t1\\n')\n",
      "('GQ_NOUN :_. Note_NOUN on_ADP a_DET\\t1993\\t3\\t3\\n', 'GQ_NOUN :_. Note_NOUN on_ADP a_DET\\t1993\\t3\\t3\\n', '')\n",
      "('GQ , Vanity Fair ,\\t1992\\t1\\t1\\n', '', 'GQ , Vanity Fair ,\\t1992\\t1\\t1\\n')\n",
      "('GQ_NOUN ,_. Vanity_NOUN Fair_NOUN ,_.\\t1992\\t1\\t1\\n', '', 'GQ_NOUN ,_. Vanity_NOUN Fair_NOUN ,_.\\t1992\\t1\\t1\\n')\n",
      "('GQ_NOUN ,_. et_X al_X ._.\\t1993\\t1\\t1\\n', 'GQ_NOUN ,_. et_X al_X ._.\\t1993\\t1\\t1\\n', '')\n",
      "('GQ_NOUN ,_. Van_NOUN Etten_NOUN RA_NOUN\\t1992\\t4\\t3\\n', '', 'GQ_NOUN ,_. Van_NOUN Etten_NOUN RA_NOUN\\t1992\\t4\\t3\\n')\n",
      "('GQ_NOUN ,_. Van_NOUN Etten_NOUN RA_NOUN\\t1993\\t6\\t4\\n', 'GQ_NOUN ,_. Van_NOUN Etten_NOUN RA_NOUN\\t1993\\t6\\t4\\n', '')\n",
      "('GQ_NOUN ,_. Rolling_VERB Stone_NOUN ,_.\\t1992\\t1\\t1\\n', '', 'GQ_NOUN ,_. Rolling_VERB Stone_NOUN ,_.\\t1992\\t1\\t1\\n')\n",
      "('GQ , et al .\\t1993\\t1\\t1\\n', 'GQ , et al .\\t1993\\t1\\t1\\n', '')\n",
      "('Gq_ADJ class_NOUN of_ADP G_NOUN proteins_NOUN\\t1992\\t12\\t5\\n', '', 'Gq_ADJ class_NOUN of_ADP G_NOUN proteins_NOUN\\t1992\\t12\\t5\\n')\n",
      "('Gq_ADJ class_NOUN of_ADP G_NOUN proteins_NOUN\\t1993\\t22\\t11\\n', 'Gq_ADJ class_NOUN of_ADP G_NOUN proteins_NOUN\\t1993\\t22\\t11\\n', '')\n",
      "('GQ , Rolling Stone ,\\t1992\\t1\\t1\\n', '', 'GQ , Rolling Stone ,\\t1992\\t1\\t1\\n')\n"
     ]
    }
   ],
   "source": [
    "result = defaultdict(int)\n",
    "with open(path_war_and_peace) as f:\n",
    "    for line in f:\n",
    "        \n",
    "        re_result = compiled_regex.findall(line)\n",
    "        for name in re_result:\n",
    "            print(name)\n",
    "            #result[name.groups()[0]] += 1"
   ]
  },
  {
   "cell_type": "code",
   "execution_count": null,
   "metadata": {},
   "outputs": [],
   "source": []
  }
 ],
 "metadata": {
  "kernelspec": {
   "display_name": "Python 3",
   "language": "python",
   "name": "python3"
  },
  "language_info": {
   "codemirror_mode": {
    "name": "ipython",
    "version": 3
   },
   "file_extension": ".py",
   "mimetype": "text/x-python",
   "name": "python",
   "nbconvert_exporter": "python",
   "pygments_lexer": "ipython3",
   "version": "3.7.6"
  }
 },
 "nbformat": 4,
 "nbformat_minor": 4
}
