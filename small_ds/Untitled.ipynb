{
 "cells": [
  {
   "cell_type": "code",
   "execution_count": 4,
   "metadata": {},
   "outputs": [],
   "source": [
    "import pandas as pd\n",
    "import numpy as np\n"
   ]
  },
  {
   "cell_type": "code",
   "execution_count": 3,
   "metadata": {},
   "outputs": [
    {
     "name": "stdout",
     "output_type": "stream",
     "text": [
      "Current date and time : \n",
      "2020-07-02 14:34:01\n"
     ]
    }
   ],
   "source": [
    "import datetime\n",
    "now = datetime.datetime.now()\n",
    "print (\"Current date and time : \")\n",
    "print (now.strftime(\"%Y-%m-%d %H:%M:%S\"))"
   ]
  },
  {
   "cell_type": "code",
   "execution_count": 18,
   "metadata": {},
   "outputs": [
    {
     "ename": "ParserError",
     "evalue": "Error tokenizing data. C error: Expected 8 fields in line 2180, saw 9\n",
     "output_type": "error",
     "traceback": [
      "\u001b[1;31m---------------------------------------------------------------------------\u001b[0m",
      "\u001b[1;31mParserError\u001b[0m                               Traceback (most recent call last)",
      "\u001b[1;32m<ipython-input-18-65e9e35fe935>\u001b[0m in \u001b[0;36m<module>\u001b[1;34m\u001b[0m\n\u001b[1;32m----> 1\u001b[1;33m \u001b[0mds\u001b[0m \u001b[1;33m=\u001b[0m \u001b[0mpd\u001b[0m\u001b[1;33m.\u001b[0m\u001b[0mread_csv\u001b[0m\u001b[1;33m(\u001b[0m\u001b[1;34m'googlebooks-eng-all-5gram-20120701-np'\u001b[0m\u001b[1;33m,\u001b[0m\u001b[0msep\u001b[0m\u001b[1;33m=\u001b[0m\u001b[1;34m'\\s+'\u001b[0m\u001b[1;33m,\u001b[0m \u001b[0mheader\u001b[0m\u001b[1;33m=\u001b[0m\u001b[1;32mNone\u001b[0m\u001b[1;33m)\u001b[0m\u001b[1;33m\u001b[0m\u001b[1;33m\u001b[0m\u001b[0m\n\u001b[0m",
      "\u001b[1;32mC:\\ds\\Anaconda3\\lib\\site-packages\\pandas\\io\\parsers.py\u001b[0m in \u001b[0;36mparser_f\u001b[1;34m(filepath_or_buffer, sep, delimiter, header, names, index_col, usecols, squeeze, prefix, mangle_dupe_cols, dtype, engine, converters, true_values, false_values, skipinitialspace, skiprows, skipfooter, nrows, na_values, keep_default_na, na_filter, verbose, skip_blank_lines, parse_dates, infer_datetime_format, keep_date_col, date_parser, dayfirst, cache_dates, iterator, chunksize, compression, thousands, decimal, lineterminator, quotechar, quoting, doublequote, escapechar, comment, encoding, dialect, error_bad_lines, warn_bad_lines, delim_whitespace, low_memory, memory_map, float_precision)\u001b[0m\n\u001b[0;32m    674\u001b[0m         )\n\u001b[0;32m    675\u001b[0m \u001b[1;33m\u001b[0m\u001b[0m\n\u001b[1;32m--> 676\u001b[1;33m         \u001b[1;32mreturn\u001b[0m \u001b[0m_read\u001b[0m\u001b[1;33m(\u001b[0m\u001b[0mfilepath_or_buffer\u001b[0m\u001b[1;33m,\u001b[0m \u001b[0mkwds\u001b[0m\u001b[1;33m)\u001b[0m\u001b[1;33m\u001b[0m\u001b[1;33m\u001b[0m\u001b[0m\n\u001b[0m\u001b[0;32m    677\u001b[0m \u001b[1;33m\u001b[0m\u001b[0m\n\u001b[0;32m    678\u001b[0m     \u001b[0mparser_f\u001b[0m\u001b[1;33m.\u001b[0m\u001b[0m__name__\u001b[0m \u001b[1;33m=\u001b[0m \u001b[0mname\u001b[0m\u001b[1;33m\u001b[0m\u001b[1;33m\u001b[0m\u001b[0m\n",
      "\u001b[1;32mC:\\ds\\Anaconda3\\lib\\site-packages\\pandas\\io\\parsers.py\u001b[0m in \u001b[0;36m_read\u001b[1;34m(filepath_or_buffer, kwds)\u001b[0m\n\u001b[0;32m    452\u001b[0m \u001b[1;33m\u001b[0m\u001b[0m\n\u001b[0;32m    453\u001b[0m     \u001b[1;32mtry\u001b[0m\u001b[1;33m:\u001b[0m\u001b[1;33m\u001b[0m\u001b[1;33m\u001b[0m\u001b[0m\n\u001b[1;32m--> 454\u001b[1;33m         \u001b[0mdata\u001b[0m \u001b[1;33m=\u001b[0m \u001b[0mparser\u001b[0m\u001b[1;33m.\u001b[0m\u001b[0mread\u001b[0m\u001b[1;33m(\u001b[0m\u001b[0mnrows\u001b[0m\u001b[1;33m)\u001b[0m\u001b[1;33m\u001b[0m\u001b[1;33m\u001b[0m\u001b[0m\n\u001b[0m\u001b[0;32m    455\u001b[0m     \u001b[1;32mfinally\u001b[0m\u001b[1;33m:\u001b[0m\u001b[1;33m\u001b[0m\u001b[1;33m\u001b[0m\u001b[0m\n\u001b[0;32m    456\u001b[0m         \u001b[0mparser\u001b[0m\u001b[1;33m.\u001b[0m\u001b[0mclose\u001b[0m\u001b[1;33m(\u001b[0m\u001b[1;33m)\u001b[0m\u001b[1;33m\u001b[0m\u001b[1;33m\u001b[0m\u001b[0m\n",
      "\u001b[1;32mC:\\ds\\Anaconda3\\lib\\site-packages\\pandas\\io\\parsers.py\u001b[0m in \u001b[0;36mread\u001b[1;34m(self, nrows)\u001b[0m\n\u001b[0;32m   1131\u001b[0m     \u001b[1;32mdef\u001b[0m \u001b[0mread\u001b[0m\u001b[1;33m(\u001b[0m\u001b[0mself\u001b[0m\u001b[1;33m,\u001b[0m \u001b[0mnrows\u001b[0m\u001b[1;33m=\u001b[0m\u001b[1;32mNone\u001b[0m\u001b[1;33m)\u001b[0m\u001b[1;33m:\u001b[0m\u001b[1;33m\u001b[0m\u001b[1;33m\u001b[0m\u001b[0m\n\u001b[0;32m   1132\u001b[0m         \u001b[0mnrows\u001b[0m \u001b[1;33m=\u001b[0m \u001b[0m_validate_integer\u001b[0m\u001b[1;33m(\u001b[0m\u001b[1;34m\"nrows\"\u001b[0m\u001b[1;33m,\u001b[0m \u001b[0mnrows\u001b[0m\u001b[1;33m)\u001b[0m\u001b[1;33m\u001b[0m\u001b[1;33m\u001b[0m\u001b[0m\n\u001b[1;32m-> 1133\u001b[1;33m         \u001b[0mret\u001b[0m \u001b[1;33m=\u001b[0m \u001b[0mself\u001b[0m\u001b[1;33m.\u001b[0m\u001b[0m_engine\u001b[0m\u001b[1;33m.\u001b[0m\u001b[0mread\u001b[0m\u001b[1;33m(\u001b[0m\u001b[0mnrows\u001b[0m\u001b[1;33m)\u001b[0m\u001b[1;33m\u001b[0m\u001b[1;33m\u001b[0m\u001b[0m\n\u001b[0m\u001b[0;32m   1134\u001b[0m \u001b[1;33m\u001b[0m\u001b[0m\n\u001b[0;32m   1135\u001b[0m         \u001b[1;31m# May alter columns / col_dict\u001b[0m\u001b[1;33m\u001b[0m\u001b[1;33m\u001b[0m\u001b[1;33m\u001b[0m\u001b[0m\n",
      "\u001b[1;32mC:\\ds\\Anaconda3\\lib\\site-packages\\pandas\\io\\parsers.py\u001b[0m in \u001b[0;36mread\u001b[1;34m(self, nrows)\u001b[0m\n\u001b[0;32m   2035\u001b[0m     \u001b[1;32mdef\u001b[0m \u001b[0mread\u001b[0m\u001b[1;33m(\u001b[0m\u001b[0mself\u001b[0m\u001b[1;33m,\u001b[0m \u001b[0mnrows\u001b[0m\u001b[1;33m=\u001b[0m\u001b[1;32mNone\u001b[0m\u001b[1;33m)\u001b[0m\u001b[1;33m:\u001b[0m\u001b[1;33m\u001b[0m\u001b[1;33m\u001b[0m\u001b[0m\n\u001b[0;32m   2036\u001b[0m         \u001b[1;32mtry\u001b[0m\u001b[1;33m:\u001b[0m\u001b[1;33m\u001b[0m\u001b[1;33m\u001b[0m\u001b[0m\n\u001b[1;32m-> 2037\u001b[1;33m             \u001b[0mdata\u001b[0m \u001b[1;33m=\u001b[0m \u001b[0mself\u001b[0m\u001b[1;33m.\u001b[0m\u001b[0m_reader\u001b[0m\u001b[1;33m.\u001b[0m\u001b[0mread\u001b[0m\u001b[1;33m(\u001b[0m\u001b[0mnrows\u001b[0m\u001b[1;33m)\u001b[0m\u001b[1;33m\u001b[0m\u001b[1;33m\u001b[0m\u001b[0m\n\u001b[0m\u001b[0;32m   2038\u001b[0m         \u001b[1;32mexcept\u001b[0m \u001b[0mStopIteration\u001b[0m\u001b[1;33m:\u001b[0m\u001b[1;33m\u001b[0m\u001b[1;33m\u001b[0m\u001b[0m\n\u001b[0;32m   2039\u001b[0m             \u001b[1;32mif\u001b[0m \u001b[0mself\u001b[0m\u001b[1;33m.\u001b[0m\u001b[0m_first_chunk\u001b[0m\u001b[1;33m:\u001b[0m\u001b[1;33m\u001b[0m\u001b[1;33m\u001b[0m\u001b[0m\n",
      "\u001b[1;32mpandas\\_libs\\parsers.pyx\u001b[0m in \u001b[0;36mpandas._libs.parsers.TextReader.read\u001b[1;34m()\u001b[0m\n",
      "\u001b[1;32mpandas\\_libs\\parsers.pyx\u001b[0m in \u001b[0;36mpandas._libs.parsers.TextReader._read_low_memory\u001b[1;34m()\u001b[0m\n",
      "\u001b[1;32mpandas\\_libs\\parsers.pyx\u001b[0m in \u001b[0;36mpandas._libs.parsers.TextReader._read_rows\u001b[1;34m()\u001b[0m\n",
      "\u001b[1;32mpandas\\_libs\\parsers.pyx\u001b[0m in \u001b[0;36mpandas._libs.parsers.TextReader._tokenize_rows\u001b[1;34m()\u001b[0m\n",
      "\u001b[1;32mpandas\\_libs\\parsers.pyx\u001b[0m in \u001b[0;36mpandas._libs.parsers.raise_parser_error\u001b[1;34m()\u001b[0m\n",
      "\u001b[1;31mParserError\u001b[0m: Error tokenizing data. C error: Expected 8 fields in line 2180, saw 9\n"
     ]
    }
   ],
   "source": [
    "ds = pd.read_csv('googlebooks-eng-all-5gram-20120701-np',sep='\\s+', header=None,engine='python')"
   ]
  },
  {
   "cell_type": "code",
   "execution_count": null,
   "metadata": {},
   "outputs": [],
   "source": [
    "print(datetime)"
   ]
  },
  {
   "cell_type": "code",
   "execution_count": 17,
   "metadata": {},
   "outputs": [
    {
     "data": {
      "text/plain": [
       "Int64Index([0, 1, 2, 3, 4, 5, 6, 7], dtype='int64')"
      ]
     },
     "execution_count": 17,
     "metadata": {},
     "output_type": "execute_result"
    }
   ],
   "source": [
    "ds.columns"
   ]
  },
  {
   "cell_type": "code",
   "execution_count": 37,
   "metadata": {},
   "outputs": [
    {
     "data": {
      "text/html": [
       "<div>\n",
       "<style scoped>\n",
       "    .dataframe tbody tr th:only-of-type {\n",
       "        vertical-align: middle;\n",
       "    }\n",
       "\n",
       "    .dataframe tbody tr th {\n",
       "        vertical-align: top;\n",
       "    }\n",
       "\n",
       "    .dataframe thead th {\n",
       "        text-align: right;\n",
       "    }\n",
       "</style>\n",
       "<table border=\"1\" class=\"dataframe\">\n",
       "  <thead>\n",
       "    <tr style=\"text-align: right;\">\n",
       "      <th></th>\n",
       "      <th>0</th>\n",
       "      <th>1</th>\n",
       "      <th>2</th>\n",
       "      <th>3</th>\n",
       "      <th>4</th>\n",
       "      <th>5</th>\n",
       "      <th>6</th>\n",
       "      <th>7</th>\n",
       "    </tr>\n",
       "  </thead>\n",
       "  <tbody>\n",
       "    <tr>\n",
       "      <th>0</th>\n",
       "      <td>GQ</td>\n",
       "      <td>:</td>\n",
       "      <td>Note</td>\n",
       "      <td>on</td>\n",
       "      <td>a</td>\n",
       "      <td>1982</td>\n",
       "      <td>2</td>\n",
       "      <td>2</td>\n",
       "    </tr>\n",
       "    <tr>\n",
       "      <th>1</th>\n",
       "      <td>GQ</td>\n",
       "      <td>:</td>\n",
       "      <td>Note</td>\n",
       "      <td>on</td>\n",
       "      <td>a</td>\n",
       "      <td>1985</td>\n",
       "      <td>2</td>\n",
       "      <td>2</td>\n",
       "    </tr>\n",
       "    <tr>\n",
       "      <th>2</th>\n",
       "      <td>GQ</td>\n",
       "      <td>:</td>\n",
       "      <td>Note</td>\n",
       "      <td>on</td>\n",
       "      <td>a</td>\n",
       "      <td>1986</td>\n",
       "      <td>2</td>\n",
       "      <td>2</td>\n",
       "    </tr>\n",
       "    <tr>\n",
       "      <th>3</th>\n",
       "      <td>GQ</td>\n",
       "      <td>:</td>\n",
       "      <td>Note</td>\n",
       "      <td>on</td>\n",
       "      <td>a</td>\n",
       "      <td>1987</td>\n",
       "      <td>2</td>\n",
       "      <td>2</td>\n",
       "    </tr>\n",
       "    <tr>\n",
       "      <th>4</th>\n",
       "      <td>GQ</td>\n",
       "      <td>:</td>\n",
       "      <td>Note</td>\n",
       "      <td>on</td>\n",
       "      <td>a</td>\n",
       "      <td>1988</td>\n",
       "      <td>7</td>\n",
       "      <td>5</td>\n",
       "    </tr>\n",
       "  </tbody>\n",
       "</table>\n",
       "</div>"
      ],
      "text/plain": [
       "    0  1     2   3  4     5  6  7\n",
       "0  GQ  :  Note  on  a  1982  2  2\n",
       "1  GQ  :  Note  on  a  1985  2  2\n",
       "2  GQ  :  Note  on  a  1986  2  2\n",
       "3  GQ  :  Note  on  a  1987  2  2\n",
       "4  GQ  :  Note  on  a  1988  7  5"
      ]
     },
     "execution_count": 37,
     "metadata": {},
     "output_type": "execute_result"
    }
   ],
   "source": [
    "ds.head()"
   ]
  },
  {
   "cell_type": "code",
   "execution_count": 41,
   "metadata": {},
   "outputs": [
    {
     "name": "stdout",
     "output_type": "stream",
     "text": [
      "<class 'pandas.core.frame.DataFrame'>\n",
      "RangeIndex: 271 entries, 0 to 270\n",
      "Data columns (total 8 columns):\n",
      " #   Column  Non-Null Count  Dtype \n",
      "---  ------  --------------  ----- \n",
      " 0   0       271 non-null    object\n",
      " 1   1       271 non-null    object\n",
      " 2   2       271 non-null    object\n",
      " 3   3       271 non-null    object\n",
      " 4   4       271 non-null    object\n",
      " 5   5       271 non-null    int64 \n",
      " 6   6       271 non-null    int64 \n",
      " 7   7       271 non-null    int64 \n",
      "dtypes: int64(3), object(5)\n",
      "memory usage: 17.1+ KB\n"
     ]
    }
   ],
   "source": [
    "ds.info()"
   ]
  },
  {
   "cell_type": "code",
   "execution_count": 44,
   "metadata": {},
   "outputs": [],
   "source": [
    "ds1995 = ds[ds[5]>1995]"
   ]
  },
  {
   "cell_type": "code",
   "execution_count": 45,
   "metadata": {},
   "outputs": [
    {
     "data": {
      "text/html": [
       "<div>\n",
       "<style scoped>\n",
       "    .dataframe tbody tr th:only-of-type {\n",
       "        vertical-align: middle;\n",
       "    }\n",
       "\n",
       "    .dataframe tbody tr th {\n",
       "        vertical-align: top;\n",
       "    }\n",
       "\n",
       "    .dataframe thead th {\n",
       "        text-align: right;\n",
       "    }\n",
       "</style>\n",
       "<table border=\"1\" class=\"dataframe\">\n",
       "  <thead>\n",
       "    <tr style=\"text-align: right;\">\n",
       "      <th></th>\n",
       "      <th>0</th>\n",
       "      <th>1</th>\n",
       "      <th>2</th>\n",
       "      <th>3</th>\n",
       "      <th>4</th>\n",
       "      <th>5</th>\n",
       "      <th>6</th>\n",
       "      <th>7</th>\n",
       "    </tr>\n",
       "  </thead>\n",
       "  <tbody>\n",
       "    <tr>\n",
       "      <th>12</th>\n",
       "      <td>GQ</td>\n",
       "      <td>:</td>\n",
       "      <td>Note</td>\n",
       "      <td>on</td>\n",
       "      <td>a</td>\n",
       "      <td>1998</td>\n",
       "      <td>7</td>\n",
       "      <td>4</td>\n",
       "    </tr>\n",
       "    <tr>\n",
       "      <th>13</th>\n",
       "      <td>GQ</td>\n",
       "      <td>:</td>\n",
       "      <td>Note</td>\n",
       "      <td>on</td>\n",
       "      <td>a</td>\n",
       "      <td>2000</td>\n",
       "      <td>2</td>\n",
       "      <td>1</td>\n",
       "    </tr>\n",
       "    <tr>\n",
       "      <th>14</th>\n",
       "      <td>GQ</td>\n",
       "      <td>:</td>\n",
       "      <td>Note</td>\n",
       "      <td>on</td>\n",
       "      <td>a</td>\n",
       "      <td>2001</td>\n",
       "      <td>5</td>\n",
       "      <td>4</td>\n",
       "    </tr>\n",
       "    <tr>\n",
       "      <th>15</th>\n",
       "      <td>GQ</td>\n",
       "      <td>:</td>\n",
       "      <td>Note</td>\n",
       "      <td>on</td>\n",
       "      <td>a</td>\n",
       "      <td>2002</td>\n",
       "      <td>1</td>\n",
       "      <td>1</td>\n",
       "    </tr>\n",
       "    <tr>\n",
       "      <th>16</th>\n",
       "      <td>GQ</td>\n",
       "      <td>:</td>\n",
       "      <td>Note</td>\n",
       "      <td>on</td>\n",
       "      <td>a</td>\n",
       "      <td>2003</td>\n",
       "      <td>2</td>\n",
       "      <td>2</td>\n",
       "    </tr>\n",
       "  </tbody>\n",
       "</table>\n",
       "</div>"
      ],
      "text/plain": [
       "     0  1     2   3  4     5  6  7\n",
       "12  GQ  :  Note  on  a  1998  7  4\n",
       "13  GQ  :  Note  on  a  2000  2  1\n",
       "14  GQ  :  Note  on  a  2001  5  4\n",
       "15  GQ  :  Note  on  a  2002  1  1\n",
       "16  GQ  :  Note  on  a  2003  2  2"
      ]
     },
     "execution_count": 45,
     "metadata": {},
     "output_type": "execute_result"
    }
   ],
   "source": [
    "ds1995.head()"
   ]
  },
  {
   "cell_type": "code",
   "execution_count": 47,
   "metadata": {},
   "outputs": [
    {
     "data": {
      "text/plain": [
       "(174, 8)"
      ]
     },
     "execution_count": 47,
     "metadata": {},
     "output_type": "execute_result"
    }
   ],
   "source": [
    "ds1995.shape"
   ]
  },
  {
   "cell_type": "code",
   "execution_count": 60,
   "metadata": {},
   "outputs": [
    {
     "name": "stdout",
     "output_type": "stream",
     "text": [
      "<class 'pandas.core.frame.DataFrame'>\n",
      "Int64Index: 150 entries, 11 to 267\n",
      "Data columns (total 8 columns):\n",
      " #   Column  Non-Null Count  Dtype \n",
      "---  ------  --------------  ----- \n",
      " 0   0       150 non-null    object\n",
      " 1   1       150 non-null    object\n",
      " 2   2       150 non-null    object\n",
      " 3   3       150 non-null    object\n",
      " 4   4       150 non-null    object\n",
      " 5   5       150 non-null    int64 \n",
      " 6   6       150 non-null    int64 \n",
      " 7   7       150 non-null    int64 \n",
      "dtypes: int64(3), object(5)\n",
      "memory usage: 10.5+ KB\n"
     ]
    }
   ],
   "source": [
    "#df[\"A\"][(df[\"B\"] > 50) & (df[\"C\"] == 900)]\n",
    "#ds95_2005 = ds[ds[5]>1994 & ds[5]<2006]\n",
    "ds95_2005 = ds[(ds[5]>1994) & (ds[5] <2006)]\n",
    "ds95_2005.info()"
   ]
  },
  {
   "cell_type": "code",
   "execution_count": 59,
   "metadata": {},
   "outputs": [
    {
     "data": {
      "text/plain": [
       "0    0\n",
       "1    0\n",
       "2    0\n",
       "3    0\n",
       "4    0\n",
       "5    0\n",
       "6    0\n",
       "7    0\n",
       "dtype: int64"
      ]
     },
     "execution_count": 59,
     "metadata": {},
     "output_type": "execute_result"
    }
   ],
   "source": [
    "ds95_2005.isna().sum()"
   ]
  },
  {
   "cell_type": "code",
   "execution_count": 61,
   "metadata": {},
   "outputs": [
    {
     "name": "stdout",
     "output_type": "stream",
     "text": [
      "<class 'pandas.core.frame.DataFrame'>\n",
      "RangeIndex: 271 entries, 0 to 270\n",
      "Data columns (total 8 columns):\n",
      " #   Column  Non-Null Count  Dtype \n",
      "---  ------  --------------  ----- \n",
      " 0   0       271 non-null    object\n",
      " 1   1       271 non-null    object\n",
      " 2   2       271 non-null    object\n",
      " 3   3       271 non-null    object\n",
      " 4   4       271 non-null    object\n",
      " 5   5       271 non-null    int64 \n",
      " 6   6       271 non-null    int64 \n",
      " 7   7       271 non-null    int64 \n",
      "dtypes: int64(3), object(5)\n",
      "memory usage: 17.1+ KB\n"
     ]
    }
   ],
   "source": [
    "ds.info()"
   ]
  },
  {
   "cell_type": "code",
   "execution_count": 1,
   "metadata": {},
   "outputs": [],
   "source": [
    "import pandas as pd\n",
    "import numpy as np\n"
   ]
  },
  {
   "cell_type": "code",
   "execution_count": 2,
   "metadata": {},
   "outputs": [],
   "source": [
    "def chunk_filtering_yearwise_data(data_):\n",
    "    return data_[(data_[5]>1994) & (data_[5] <2006)]"
   ]
  },
  {
   "cell_type": "code",
   "execution_count": null,
   "metadata": {
    "scrolled": true
   },
   "outputs": [
    {
     "name": "stdout",
     "output_type": "stream",
     "text": [
      "1\n",
      "2\n",
      "3\n",
      "4\n",
      "5\n",
      "6\n",
      "7\n",
      "8\n",
      "9\n"
     ]
    },
    {
     "name": "stderr",
     "output_type": "stream",
     "text": [
      "b'Skipping line 4207: expected 8 fields, saw 10\\n'\n",
      "b'Skipping line 13596: expected 8 fields, saw 10\\n'\n",
      "b'Skipping line 20328: expected 8 fields, saw 30\\nSkipping line 20785: expected 8 fields, saw 10\\n'\n",
      "b'Skipping line 25651: expected 8 fields, saw 55\\n'\n"
     ]
    },
    {
     "name": "stdout",
     "output_type": "stream",
     "text": [
      "10\n",
      "11\n",
      "12\n",
      "13\n",
      "14\n",
      "15\n",
      "16\n",
      "17\n"
     ]
    },
    {
     "name": "stderr",
     "output_type": "stream",
     "text": [
      "b'Skipping line 41863: expected 8 fields, saw 9\\nSkipping line 42357: expected 8 fields, saw 10\\nSkipping line 42378: expected 8 fields, saw 9\\n'\n",
      "b'Skipping line 56666: expected 8 fields, saw 9\\nSkipping line 56693: expected 8 fields, saw 43\\n'\n",
      "b'Skipping line 64583: expected 8 fields, saw 9\\nSkipping line 65433: expected 8 fields, saw 9\\n'\n",
      "b'Skipping line 68320: expected 8 fields, saw 11\\nSkipping line 70152: expected 8 fields, saw 9\\nSkipping line 71225: expected 8 fields, saw 28\\nSkipping line 71234: expected 8 fields, saw 9\\nSkipping line 71607: expected 8 fields, saw 9\\nSkipping line 71624: expected 8 fields, saw 9\\n'\n"
     ]
    },
    {
     "name": "stdout",
     "output_type": "stream",
     "text": [
      "18\n",
      "19\n",
      "20\n",
      "21\n",
      "22\n",
      "23\n",
      "24\n",
      "25\n"
     ]
    },
    {
     "name": "stderr",
     "output_type": "stream",
     "text": [
      "b'Skipping line 72880: expected 8 fields, saw 9\\nSkipping line 74916: expected 8 fields, saw 9\\n'\n",
      "b'Skipping line 76177: expected 8 fields, saw 10\\nSkipping line 77767: expected 8 fields, saw 10\\n'\n",
      "b'Skipping line 82470: expected 8 fields, saw 11\\n'\n",
      "b'Skipping line 92247: expected 8 fields, saw 10\\n'\n",
      "b'Skipping line 101752: expected 8 fields, saw 9\\nSkipping line 102043: expected 8 fields, saw 9\\nSkipping line 103114: expected 8 fields, saw 10\\nSkipping line 103573: expected 8 fields, saw 10\\n'\n",
      "b'Skipping line 107583: expected 8 fields, saw 10\\nSkipping line 107685: expected 8 fields, saw 71\\n'\n"
     ]
    },
    {
     "name": "stdout",
     "output_type": "stream",
     "text": [
      "26\n",
      "27\n",
      "28\n",
      "29\n",
      "30\n",
      "31\n",
      "32\n",
      "33\n"
     ]
    },
    {
     "name": "stderr",
     "output_type": "stream",
     "text": [
      "b'Skipping line 115503: expected 8 fields, saw 9\\n'\n",
      "b'Skipping line 121421: expected 8 fields, saw 10\\n'\n",
      "b'Skipping line 125638: expected 8 fields, saw 9\\n'\n",
      "b'Skipping line 132005: expected 8 fields, saw 9\\n'\n",
      "b'Skipping line 135745: expected 8 fields, saw 9\\n'\n",
      "b'Skipping line 140154: expected 8 fields, saw 9\\nSkipping line 142446: expected 8 fields, saw 9\\nSkipping line 143100: expected 8 fields, saw 9\\n'\n"
     ]
    },
    {
     "name": "stdout",
     "output_type": "stream",
     "text": [
      "34\n",
      "35\n",
      "36\n",
      "37\n",
      "38\n",
      "39\n",
      "40\n",
      "41\n"
     ]
    },
    {
     "name": "stderr",
     "output_type": "stream",
     "text": [
      "b'Skipping line 150525: expected 8 fields, saw 9\\n'\n",
      "b'Skipping line 156921: expected 8 fields, saw 9\\n'\n",
      "b'Skipping line 165248: expected 8 fields, saw 10\\nSkipping line 165284: expected 8 fields, saw 10\\nSkipping line 165403: expected 8 fields, saw 53\\nSkipping line 165413: expected 8 fields, saw 9\\n'\n",
      "b'Skipping line 175041: expected 8 fields, saw 10\\n'\n"
     ]
    },
    {
     "name": "stdout",
     "output_type": "stream",
     "text": [
      "42\n",
      "43\n",
      "44\n",
      "45\n",
      "46\n",
      "47\n",
      "48\n",
      "49\n",
      "50\n"
     ]
    },
    {
     "name": "stderr",
     "output_type": "stream",
     "text": [
      "b'Skipping line 180754: expected 8 fields, saw 10\\nSkipping line 180779: expected 8 fields, saw 11\\nSkipping line 180895: expected 8 fields, saw 9\\n'\n",
      "b'Skipping line 187290: expected 8 fields, saw 9\\n'\n",
      "b'Skipping line 190085: expected 8 fields, saw 71\\nSkipping line 190127: expected 8 fields, saw 10\\nSkipping line 191689: expected 8 fields, saw 9\\n'\n",
      "b'Skipping line 193786: expected 8 fields, saw 9\\nSkipping line 196001: expected 8 fields, saw 9\\n'\n",
      "b'Skipping line 198191: expected 8 fields, saw 9\\nSkipping line 198241: expected 8 fields, saw 10\\nSkipping line 198303: expected 8 fields, saw 62\\nSkipping line 198353: expected 8 fields, saw 10\\n'\n",
      "b'Skipping line 203584: expected 8 fields, saw 9\\nSkipping line 203652: expected 8 fields, saw 100\\n'\n",
      "b'Skipping line 210940: expected 8 fields, saw 45\\nSkipping line 211785: expected 8 fields, saw 9\\n'\n"
     ]
    },
    {
     "name": "stdout",
     "output_type": "stream",
     "text": [
      "51\n",
      "52\n",
      "53\n",
      "54\n",
      "55\n",
      "56\n",
      "57\n",
      "58\n"
     ]
    },
    {
     "name": "stderr",
     "output_type": "stream",
     "text": [
      "b'Skipping line 223660: expected 8 fields, saw 11\\nSkipping line 223737: expected 8 fields, saw 9\\n'\n",
      "b'Skipping line 224706: expected 8 fields, saw 10\\n'\n",
      "b'Skipping line 232496: expected 8 fields, saw 73\\nSkipping line 232510: expected 8 fields, saw 9\\nSkipping line 234498: expected 8 fields, saw 9\\n'\n",
      "b'Skipping line 240274: expected 8 fields, saw 10\\n'\n",
      "b'Skipping line 245654: expected 8 fields, saw 10\\nSkipping line 245752: expected 8 fields, saw 9\\nSkipping line 245798: expected 8 fields, saw 10\\n'\n",
      "b'Skipping line 252010: expected 8 fields, saw 10\\n'\n"
     ]
    },
    {
     "name": "stdout",
     "output_type": "stream",
     "text": [
      "59\n",
      "60\n",
      "61\n",
      "62\n",
      "63\n",
      "64\n",
      "65\n",
      "66\n"
     ]
    },
    {
     "name": "stderr",
     "output_type": "stream",
     "text": [
      "b'Skipping line 256162: expected 8 fields, saw 11\\n'\n",
      "b'Skipping line 260333: expected 8 fields, saw 67\\nSkipping line 260500: expected 8 fields, saw 9\\nSkipping line 263622: expected 8 fields, saw 9\\n'\n",
      "b'Skipping line 266576: expected 8 fields, saw 9\\nSkipping line 266600: expected 8 fields, saw 9\\n'\n",
      "b'Skipping line 268686: expected 8 fields, saw 10\\nSkipping line 269377: expected 8 fields, saw 9\\n'\n",
      "b'Skipping line 277059: expected 8 fields, saw 10\\nSkipping line 278669: expected 8 fields, saw 10\\n'\n",
      "b'Skipping line 282255: expected 8 fields, saw 10\\nSkipping line 284063: expected 8 fields, saw 9\\n'\n",
      "b'Skipping line 286013: expected 8 fields, saw 9\\nSkipping line 286263: expected 8 fields, saw 9\\nSkipping line 286275: expected 8 fields, saw 9\\n'"
     ]
    },
    {
     "name": "stdout",
     "output_type": "stream",
     "text": [
      "67\n",
      "68\n",
      "69\n",
      "70\n",
      "71\n",
      "72\n",
      "73\n"
     ]
    },
    {
     "name": "stderr",
     "output_type": "stream",
     "text": [
      "\n",
      "b'Skipping line 290964: expected 8 fields, saw 9\\nSkipping line 291043: expected 8 fields, saw 9\\nSkipping line 291068: expected 8 fields, saw 10\\nSkipping line 291350: expected 8 fields, saw 10\\n'\n",
      "b'Skipping line 292183: expected 8 fields, saw 10\\nSkipping line 294215: expected 8 fields, saw 9\\n'\n",
      "b'Skipping line 296445: expected 8 fields, saw 9\\nSkipping line 296902: expected 8 fields, saw 10\\nSkipping line 296956: expected 8 fields, saw 54\\n'\n",
      "b'Skipping line 303069: expected 8 fields, saw 10\\nSkipping line 303096: expected 8 fields, saw 9\\n'\n"
     ]
    },
    {
     "name": "stdout",
     "output_type": "stream",
     "text": [
      "74\n",
      "75\n",
      "76\n",
      "77\n",
      "78\n",
      "79\n",
      "80\n",
      "81\n",
      "82\n"
     ]
    },
    {
     "name": "stderr",
     "output_type": "stream",
     "text": [
      "b'Skipping line 320907: expected 8 fields, saw 9\\n'\n",
      "b'Skipping line 331232: expected 8 fields, saw 9\\nSkipping line 331269: expected 8 fields, saw 9\\nSkipping line 331278: expected 8 fields, saw 10\\nSkipping line 331326: expected 8 fields, saw 9\\nSkipping line 331337: expected 8 fields, saw 9\\nSkipping line 331346: expected 8 fields, saw 9\\n'\n",
      "b'Skipping line 333761: expected 8 fields, saw 10\\nSkipping line 333802: expected 8 fields, saw 9\\n'\n",
      "b'Skipping line 346057: expected 8 fields, saw 10\\n'\n",
      "b'Skipping line 352323: expected 8 fields, saw 10\\nSkipping line 353702: expected 8 fields, saw 39\\n'\n"
     ]
    },
    {
     "name": "stdout",
     "output_type": "stream",
     "text": [
      "83\n",
      "84\n",
      "85\n",
      "86\n",
      "87\n",
      "88\n",
      "89\n",
      "90\n"
     ]
    },
    {
     "name": "stderr",
     "output_type": "stream",
     "text": [
      "b'Skipping line 363180: expected 8 fields, saw 9\\nSkipping line 363842: expected 8 fields, saw 9\\nSkipping line 363884: expected 8 fields, saw 10\\n'\n",
      "b'Skipping line 365885: expected 8 fields, saw 9\\nSkipping line 366044: expected 8 fields, saw 9\\nSkipping line 366091: expected 8 fields, saw 11\\n'\n",
      "b'Skipping line 376225: expected 8 fields, saw 9\\nSkipping line 376954: expected 8 fields, saw 9\\nSkipping line 380068: expected 8 fields, saw 189\\n'\n",
      "b'Skipping line 383539: expected 8 fields, saw 9\\nSkipping line 383561: expected 8 fields, saw 9\\nSkipping line 383933: expected 8 fields, saw 66\\n'\n",
      "b'Skipping line 390290: expected 8 fields, saw 10\\nSkipping line 390298: expected 8 fields, saw 57\\nSkipping line 390315: expected 8 fields, saw 10\\n'\n",
      "b'Skipping line 395725: expected 8 fields, saw 9\\n'\n"
     ]
    },
    {
     "name": "stdout",
     "output_type": "stream",
     "text": [
      "91\n",
      "92\n",
      "93\n",
      "94\n",
      "95\n",
      "96\n",
      "97\n",
      "98\n",
      "99\n"
     ]
    },
    {
     "name": "stderr",
     "output_type": "stream",
     "text": [
      "b'Skipping line 397884: expected 8 fields, saw 9\\nSkipping line 397903: expected 8 fields, saw 9\\n'\n",
      "b'Skipping line 404810: expected 8 fields, saw 9\\n'\n",
      "b'Skipping line 413779: expected 8 fields, saw 9\\nSkipping line 415333: expected 8 fields, saw 11\\n'\n",
      "b'Skipping line 425526: expected 8 fields, saw 59\\nSkipping line 425544: expected 8 fields, saw 9\\n'\n"
     ]
    },
    {
     "name": "stdout",
     "output_type": "stream",
     "text": [
      "100\n",
      "101\n",
      "102\n",
      "103\n",
      "104\n",
      "105\n",
      "106\n",
      "107\n",
      "108\n",
      "109\n"
     ]
    },
    {
     "name": "stderr",
     "output_type": "stream",
     "text": [
      "b'Skipping line 439633: expected 8 fields, saw 9\\nSkipping line 439945: expected 8 fields, saw 11\\n'\n",
      "b'Skipping line 440234: expected 8 fields, saw 9\\nSkipping line 440277: expected 8 fields, saw 59\\nSkipping line 442685: expected 8 fields, saw 9\\nSkipping line 442709: expected 8 fields, saw 39\\nSkipping line 443761: expected 8 fields, saw 10\\n'\n",
      "b'Skipping line 452795: expected 8 fields, saw 9\\nSkipping line 452827: expected 8 fields, saw 10\\nSkipping line 453305: expected 8 fields, saw 11\\nSkipping line 453340: expected 8 fields, saw 10\\nSkipping line 453385: expected 8 fields, saw 10\\n'\n",
      "b'Skipping line 461612: expected 8 fields, saw 10\\n'\n",
      "b'Skipping line 464333: expected 8 fields, saw 10\\nSkipping line 466716: expected 8 fields, saw 10\\nSkipping line 466818: expected 8 fields, saw 10\\n'\n"
     ]
    },
    {
     "name": "stdout",
     "output_type": "stream",
     "text": [
      "110\n",
      "111\n",
      "112\n",
      "113\n",
      "114\n",
      "115\n",
      "116\n",
      "117\n",
      "118\n"
     ]
    },
    {
     "name": "stderr",
     "output_type": "stream",
     "text": [
      "b'Skipping line 474428: expected 8 fields, saw 9\\nSkipping line 475494: expected 8 fields, saw 9\\n'\n",
      "b'Skipping line 483495: expected 8 fields, saw 10\\n'\n",
      "b'Skipping line 484750: expected 8 fields, saw 9\\n'\n",
      "b'Skipping line 489723: expected 8 fields, saw 10\\nSkipping line 489759: expected 8 fields, saw 10\\nSkipping line 489780: expected 8 fields, saw 11\\n'\n",
      "b'Skipping line 494630: expected 8 fields, saw 9\\n'\n",
      "b'Skipping line 498061: expected 8 fields, saw 11\\n'\n",
      "b'Skipping line 501258: expected 8 fields, saw 10\\nSkipping line 503408: expected 8 fields, saw 9\\n'\n"
     ]
    },
    {
     "name": "stdout",
     "output_type": "stream",
     "text": [
      "119\n",
      "120\n",
      "121\n",
      "122\n",
      "123\n",
      "124\n",
      "125\n",
      "126\n",
      "127\n",
      "128\n",
      "129\n",
      "130\n",
      "131\n",
      "132\n",
      "133\n"
     ]
    },
    {
     "name": "stderr",
     "output_type": "stream",
     "text": [
      "b'Skipping line 513132: expected 8 fields, saw 9\\n'\n",
      "b'Skipping line 520791: expected 8 fields, saw 10\\nSkipping line 520822: expected 8 fields, saw 55\\nSkipping line 520873: expected 8 fields, saw 9\\n'\n",
      "b'Skipping line 529471: expected 8 fields, saw 9\\n'\n",
      "b'Skipping line 534312: expected 8 fields, saw 9\\nSkipping line 534424: expected 8 fields, saw 9\\nSkipping line 534444: expected 8 fields, saw 9\\nSkipping line 534478: expected 8 fields, saw 55\\n'\n",
      "b'Skipping line 536806: expected 8 fields, saw 10\\nSkipping line 539895: expected 8 fields, saw 9\\n'\n"
     ]
    },
    {
     "name": "stdout",
     "output_type": "stream",
     "text": [
      "134\n",
      "135\n",
      "136\n",
      "137\n",
      "138\n",
      "139\n",
      "140\n",
      "141\n",
      "142\n"
     ]
    },
    {
     "name": "stderr",
     "output_type": "stream",
     "text": [
      "b'Skipping line 546140: expected 8 fields, saw 10\\nSkipping line 546474: expected 8 fields, saw 9\\n'\n",
      "b'Skipping line 550922: expected 8 fields, saw 81\\n'\n",
      "b'Skipping line 561535: expected 8 fields, saw 9\\nSkipping line 561563: expected 8 fields, saw 9\\n'\n",
      "b'Skipping line 571438: expected 8 fields, saw 10\\n'\n"
     ]
    },
    {
     "name": "stdout",
     "output_type": "stream",
     "text": [
      "143\n",
      "144\n",
      "145\n",
      "146\n",
      "147\n",
      "148\n",
      "149\n"
     ]
    },
    {
     "name": "stderr",
     "output_type": "stream",
     "text": [
      "b'Skipping line 585777: expected 8 fields, saw 9\\n'\n",
      "b'Skipping line 592401: expected 8 fields, saw 10\\nSkipping line 592863: expected 8 fields, saw 9\\n'\n",
      "b'Skipping line 596477: expected 8 fields, saw 9\\nSkipping line 598765: expected 8 fields, saw 10\\nSkipping line 598874: expected 8 fields, saw 85\\n'\n",
      "b'Skipping line 602454: expected 8 fields, saw 10\\nSkipping line 602470: expected 8 fields, saw 9\\nSkipping line 602841: expected 8 fields, saw 9\\n'\n",
      "b'Skipping line 604938: expected 8 fields, saw 10\\n'\n",
      "b'Skipping line 610693: expected 8 fields, saw 10\\n'\n"
     ]
    },
    {
     "name": "stdout",
     "output_type": "stream",
     "text": [
      "150\n",
      "151\n",
      "152\n",
      "153\n",
      "154\n",
      "155\n",
      "156\n",
      "157\n",
      "158\n"
     ]
    },
    {
     "name": "stderr",
     "output_type": "stream",
     "text": [
      "b'Skipping line 616297: expected 8 fields, saw 9\\nSkipping line 616467: expected 8 fields, saw 9\\n'\n",
      "b'Skipping line 622239: expected 8 fields, saw 9\\nSkipping line 622249: expected 8 fields, saw 9\\n'\n",
      "b'Skipping line 638353: expected 8 fields, saw 9\\nSkipping line 638480: expected 8 fields, saw 202\\nSkipping line 638491: expected 8 fields, saw 11\\n'\n",
      "b'Skipping line 650020: expected 8 fields, saw 10\\n'\n"
     ]
    },
    {
     "name": "stdout",
     "output_type": "stream",
     "text": [
      "159\n",
      "160\n",
      "161\n",
      "162\n",
      "163\n",
      "164\n",
      "165\n",
      "166\n",
      "167\n"
     ]
    },
    {
     "name": "stderr",
     "output_type": "stream",
     "text": [
      "b'Skipping line 655188: expected 8 fields, saw 10\\nSkipping line 655479: expected 8 fields, saw 9\\n'\n",
      "b'Skipping line 663824: expected 8 fields, saw 9\\n'\n",
      "b'Skipping line 668211: expected 8 fields, saw 9\\nSkipping line 668230: expected 8 fields, saw 143\\n'\n",
      "b'Skipping line 679662: expected 8 fields, saw 9\\nSkipping line 680136: expected 8 fields, saw 10\\n'\n"
     ]
    },
    {
     "name": "stdout",
     "output_type": "stream",
     "text": [
      "168\n",
      "169\n",
      "170\n",
      "171\n",
      "172\n",
      "173\n",
      "174\n",
      "175\n",
      "176\n"
     ]
    },
    {
     "name": "stderr",
     "output_type": "stream",
     "text": [
      "b'Skipping line 698719: expected 8 fields, saw 11\\n'\n",
      "b'Skipping line 707622: expected 8 fields, saw 10\\nSkipping line 708074: expected 8 fields, saw 11\\n'\n",
      "b'Skipping line 709896: expected 8 fields, saw 9\\n'\n",
      "b'Skipping line 717164: expected 8 fields, saw 10\\nSkipping line 718036: expected 8 fields, saw 10\\nSkipping line 718064: expected 8 fields, saw 9\\n'\n",
      "b'Skipping line 726891: expected 8 fields, saw 9\\nSkipping line 727208: expected 8 fields, saw 10\\n'\n"
     ]
    },
    {
     "name": "stdout",
     "output_type": "stream",
     "text": [
      "177\n",
      "178\n",
      "179\n",
      "180\n",
      "181\n",
      "182\n",
      "183\n",
      "184\n",
      "185\n"
     ]
    },
    {
     "name": "stderr",
     "output_type": "stream",
     "text": [
      "b'Skipping line 735509: expected 8 fields, saw 9\\n'\n",
      "b'Skipping line 740395: expected 8 fields, saw 133\\nSkipping line 740438: expected 8 fields, saw 10\\nSkipping line 743887: expected 8 fields, saw 9\\n'\n",
      "b'Skipping line 748350: expected 8 fields, saw 11\\n'\n",
      "b'Skipping line 754044: expected 8 fields, saw 9\\n'\n",
      "b'Skipping line 759699: expected 8 fields, saw 9\\n'\n",
      "b'Skipping line 761419: expected 8 fields, saw 10\\nSkipping line 761449: expected 8 fields, saw 9\\nSkipping line 761600: expected 8 fields, saw 9\\nSkipping line 761626: expected 8 fields, saw 112\\n'\n"
     ]
    },
    {
     "name": "stdout",
     "output_type": "stream",
     "text": [
      "186\n",
      "187\n",
      "188\n",
      "189\n",
      "190\n",
      "191\n",
      "192\n",
      "193\n",
      "194\n"
     ]
    },
    {
     "name": "stderr",
     "output_type": "stream",
     "text": [
      "b'Skipping line 770801: expected 8 fields, saw 9\\n'\n",
      "b'Skipping line 775206: expected 8 fields, saw 9\\n'\n",
      "b'Skipping line 780935: expected 8 fields, saw 9\\nSkipping line 780944: expected 8 fields, saw 9\\n'\n",
      "b'Skipping line 788437: expected 8 fields, saw 10\\nSkipping line 789354: expected 8 fields, saw 9\\n'\n",
      "b'Skipping line 798954: expected 8 fields, saw 9\\nSkipping line 800202: expected 8 fields, saw 10\\n'\n",
      "b'Skipping line 803922: expected 8 fields, saw 9\\n'\n"
     ]
    },
    {
     "name": "stdout",
     "output_type": "stream",
     "text": [
      "195\n",
      "196\n",
      "197\n",
      "198\n",
      "199\n",
      "200\n",
      "201\n"
     ]
    },
    {
     "name": "stderr",
     "output_type": "stream",
     "text": [
      "b'Skipping line 806082: expected 8 fields, saw 10\\n'\n",
      "b'Skipping line 809740: expected 8 fields, saw 9\\nSkipping line 810245: expected 8 fields, saw 9\\n'\n",
      "b'Skipping line 812303: expected 8 fields, saw 9\\n'\n",
      "b'Skipping line 817721: expected 8 fields, saw 10\\n'\n",
      "b'Skipping line 831026: expected 8 fields, saw 9\\n'\n",
      "b'Skipping line 833251: expected 8 fields, saw 9\\n'\n"
     ]
    },
    {
     "name": "stdout",
     "output_type": "stream",
     "text": [
      "202\n",
      "203\n",
      "204\n",
      "205\n",
      "206\n",
      "207\n",
      "208\n",
      "209\n",
      "210\n",
      "211\n",
      "212\n",
      "213\n",
      "214\n",
      "215\n"
     ]
    },
    {
     "name": "stderr",
     "output_type": "stream",
     "text": [
      "b'Skipping line 852019: expected 8 fields, saw 9\\n'\n",
      "b'Skipping line 854212: expected 8 fields, saw 10\\nSkipping line 855254: expected 8 fields, saw 10\\n'\n",
      "b'Skipping line 859813: expected 8 fields, saw 9\\n'\n",
      "b'Skipping line 860595: expected 8 fields, saw 44\\nSkipping line 860673: expected 8 fields, saw 9\\nSkipping line 860683: expected 8 fields, saw 10\\n'\n",
      "b'Skipping line 864684: expected 8 fields, saw 10\\nSkipping line 865045: expected 8 fields, saw 9\\nSkipping line 865055: expected 8 fields, saw 32\\nSkipping line 865065: expected 8 fields, saw 9\\nSkipping line 866944: expected 8 fields, saw 10\\n'\n",
      "b'Skipping line 869862: expected 8 fields, saw 10\\nSkipping line 869989: expected 8 fields, saw 9\\n'\n",
      "b'Skipping line 873989: expected 8 fields, saw 9\\n'\n"
     ]
    },
    {
     "name": "stdout",
     "output_type": "stream",
     "text": [
      "216\n",
      "217\n",
      "218\n",
      "219\n",
      "220\n",
      "221\n",
      "222\n",
      "223\n",
      "224\n"
     ]
    },
    {
     "name": "stderr",
     "output_type": "stream",
     "text": [
      "b'Skipping line 888954: expected 8 fields, saw 9\\nSkipping line 888982: expected 8 fields, saw 10\\nSkipping line 889422: expected 8 fields, saw 9\\nSkipping line 889436: expected 8 fields, saw 77\\n'\n",
      "b'Skipping line 903797: expected 8 fields, saw 9\\nSkipping line 903849: expected 8 fields, saw 9\\n'\n",
      "b'Skipping line 904523: expected 8 fields, saw 10\\nSkipping line 905598: expected 8 fields, saw 11\\n'\n",
      "b'Skipping line 920931: expected 8 fields, saw 9\\nSkipping line 921912: expected 8 fields, saw 11\\n'\n"
     ]
    },
    {
     "name": "stdout",
     "output_type": "stream",
     "text": [
      "225\n",
      "226\n",
      "227\n",
      "228\n",
      "229\n",
      "230\n",
      "231\n",
      "232\n",
      "233\n"
     ]
    },
    {
     "name": "stderr",
     "output_type": "stream",
     "text": [
      "b'Skipping line 930632: expected 8 fields, saw 9\\n'\n",
      "b'Skipping line 935309: expected 8 fields, saw 9\\nSkipping line 935743: expected 8 fields, saw 10\\n'\n",
      "b'Skipping line 942714: expected 8 fields, saw 9\\n'\n",
      "b'Skipping line 946915: expected 8 fields, saw 42\\n'\n",
      "b'Skipping line 948796: expected 8 fields, saw 9\\nSkipping line 949123: expected 8 fields, saw 9\\n'\n",
      "b'Skipping line 954877: expected 8 fields, saw 10\\n'\n",
      "b'Skipping line 958779: expected 8 fields, saw 10\\nSkipping line 958928: expected 8 fields, saw 9\\nSkipping line 959449: expected 8 fields, saw 9\\nSkipping line 959467: expected 8 fields, saw 9\\n'\n"
     ]
    },
    {
     "name": "stdout",
     "output_type": "stream",
     "text": [
      "234\n",
      "235\n",
      "236\n",
      "237\n",
      "238\n",
      "239\n",
      "240\n",
      "241\n"
     ]
    },
    {
     "name": "stderr",
     "output_type": "stream",
     "text": [
      "b'Skipping line 966196: expected 8 fields, saw 94\\n'\n",
      "b'Skipping line 984559: expected 8 fields, saw 9\\n'\n",
      "b'Skipping line 988752: expected 8 fields, saw 9\\n'\n",
      "b'Skipping line 995815: expected 8 fields, saw 10\\n'\n"
     ]
    },
    {
     "name": "stdout",
     "output_type": "stream",
     "text": [
      "242\n",
      "243\n",
      "244\n",
      "245\n",
      "246\n",
      "247\n",
      "248\n",
      "249\n",
      "250\n"
     ]
    },
    {
     "name": "stderr",
     "output_type": "stream",
     "text": [
      "b'Skipping line 1001280: expected 8 fields, saw 11\\nSkipping line 1003135: expected 8 fields, saw 52\\n'\n",
      "b'Skipping line 1007384: expected 8 fields, saw 58\\n'\n",
      "b'Skipping line 1008726: expected 8 fields, saw 11\\nSkipping line 1008753: expected 8 fields, saw 9\\nSkipping line 1008777: expected 8 fields, saw 9\\n'\n",
      "b'Skipping line 1017204: expected 8 fields, saw 9\\n'\n",
      "b'Skipping line 1025317: expected 8 fields, saw 10\\nSkipping line 1026116: expected 8 fields, saw 9\\nSkipping line 1028090: expected 8 fields, saw 9\\nSkipping line 1028098: expected 8 fields, saw 9\\n'\n",
      "b'Skipping line 1028548: expected 8 fields, saw 10\\nSkipping line 1031525: expected 8 fields, saw 9\\n'\n",
      "b'Skipping line 1037952: expected 8 fields, saw 10\\n'\n"
     ]
    },
    {
     "name": "stdout",
     "output_type": "stream",
     "text": [
      "251\n",
      "252\n",
      "253\n",
      "254\n",
      "255\n",
      "256\n",
      "257\n",
      "258\n",
      "259\n",
      "260\n",
      "261\n",
      "262\n",
      "263\n",
      "264\n",
      "265\n",
      "266\n",
      "267\n",
      "268\n"
     ]
    },
    {
     "name": "stderr",
     "output_type": "stream",
     "text": [
      "b'Skipping line 1041986: expected 8 fields, saw 9\\nSkipping line 1043380: expected 8 fields, saw 10\\n'\n",
      "b'Skipping line 1044989: expected 8 fields, saw 9\\n'\n",
      "b'Skipping line 1055667: expected 8 fields, saw 9\\nSkipping line 1055695: expected 8 fields, saw 10\\n'\n",
      "b'Skipping line 1056319: expected 8 fields, saw 28\\n'\n",
      "b'Skipping line 1075224: expected 8 fields, saw 9\\n'\n"
     ]
    },
    {
     "name": "stdout",
     "output_type": "stream",
     "text": [
      "269\n",
      "270\n",
      "271\n",
      "272\n",
      "273\n",
      "274\n",
      "275\n",
      "276\n",
      "277\n",
      "278\n"
     ]
    },
    {
     "name": "stderr",
     "output_type": "stream",
     "text": [
      "b'Skipping line 1078834: expected 8 fields, saw 9\\n'\n",
      "b'Skipping line 1095273: expected 8 fields, saw 9\\nSkipping line 1095321: expected 8 fields, saw 9\\n'\n",
      "b'Skipping line 1099815: expected 8 fields, saw 9\\n'\n",
      "b'Skipping line 1102746: expected 8 fields, saw 10\\nSkipping line 1103385: expected 8 fields, saw 11\\n'\n",
      "b'Skipping line 1106394: expected 8 fields, saw 9\\n'\n",
      "b'Skipping line 1113656: expected 8 fields, saw 9\\nSkipping line 1113912: expected 8 fields, saw 9\\nSkipping line 1113934: expected 8 fields, saw 10\\n'\n"
     ]
    },
    {
     "name": "stdout",
     "output_type": "stream",
     "text": [
      "279\n",
      "280\n",
      "281\n",
      "282\n",
      "283\n",
      "284\n",
      "285\n"
     ]
    },
    {
     "name": "stderr",
     "output_type": "stream",
     "text": [
      "b'Skipping line 1126423: expected 8 fields, saw 11\\n'\n",
      "b'Skipping line 1129271: expected 8 fields, saw 44\\nSkipping line 1129281: expected 8 fields, saw 9\\n'\n",
      "b'Skipping line 1137030: expected 8 fields, saw 64\\nSkipping line 1137052: expected 8 fields, saw 9\\nSkipping line 1137141: expected 8 fields, saw 10\\nSkipping line 1138650: expected 8 fields, saw 9\\n'\n",
      "b'Skipping line 1141947: expected 8 fields, saw 9\\nSkipping line 1142669: expected 8 fields, saw 10\\n'\n",
      "b'Skipping line 1146940: expected 8 fields, saw 10\\nSkipping line 1146960: expected 8 fields, saw 187\\nSkipping line 1147024: expected 8 fields, saw 9\\nSkipping line 1147487: expected 8 fields, saw 10\\n'\n",
      "b'Skipping line 1150893: expected 8 fields, saw 9\\n'\n"
     ]
    },
    {
     "name": "stdout",
     "output_type": "stream",
     "text": [
      "286\n",
      "287\n",
      "288\n",
      "289\n",
      "290\n",
      "291\n",
      "292\n",
      "293\n",
      "294\n"
     ]
    },
    {
     "name": "stderr",
     "output_type": "stream",
     "text": [
      "b'Skipping line 1157658: expected 8 fields, saw 9\\nSkipping line 1157670: expected 8 fields, saw 9\\n'\n",
      "b'Skipping line 1163113: expected 8 fields, saw 9\\n'\n",
      "b'Skipping line 1169138: expected 8 fields, saw 9\\n'\n",
      "b'Skipping line 1183706: expected 8 fields, saw 11\\nSkipping line 1183958: expected 8 fields, saw 9\\n'\n",
      "b'Skipping line 1185279: expected 8 fields, saw 10\\nSkipping line 1186351: expected 8 fields, saw 9\\nSkipping line 1187028: expected 8 fields, saw 25\\nSkipping line 1187068: expected 8 fields, saw 9\\n'\n",
      "b'Skipping line 1189325: expected 8 fields, saw 10\\n'\n"
     ]
    },
    {
     "name": "stdout",
     "output_type": "stream",
     "text": [
      "295\n",
      "296\n",
      "297\n",
      "298\n",
      "299\n",
      "300\n",
      "301\n",
      "302\n",
      "303\n"
     ]
    },
    {
     "name": "stderr",
     "output_type": "stream",
     "text": [
      "b'Skipping line 1193410: expected 8 fields, saw 9\\nSkipping line 1193424: expected 8 fields, saw 9\\n'\n",
      "b'Skipping line 1198367: expected 8 fields, saw 9\\nSkipping line 1198400: expected 8 fields, saw 9\\nSkipping line 1198788: expected 8 fields, saw 76\\nSkipping line 1198824: expected 8 fields, saw 9\\n'\n",
      "b'Skipping line 1207655: expected 8 fields, saw 9\\nSkipping line 1207681: expected 8 fields, saw 11\\n'\n",
      "b'Skipping line 1218744: expected 8 fields, saw 9\\nSkipping line 1218779: expected 8 fields, saw 9\\nSkipping line 1218787: expected 8 fields, saw 9\\n'\n",
      "b'Skipping line 1220605: expected 8 fields, saw 9\\nSkipping line 1220648: expected 8 fields, saw 9\\nSkipping line 1220742: expected 8 fields, saw 9\\nSkipping line 1221578: expected 8 fields, saw 10\\nSkipping line 1221646: expected 8 fields, saw 9\\n'\n",
      "b'Skipping line 1228270: expected 8 fields, saw 9\\n'\n"
     ]
    },
    {
     "name": "stdout",
     "output_type": "stream",
     "text": [
      "304\n",
      "305\n",
      "306\n",
      "307\n",
      "308\n",
      "309\n",
      "310\n",
      "311\n"
     ]
    },
    {
     "name": "stderr",
     "output_type": "stream",
     "text": [
      "b'Skipping line 1228408: expected 8 fields, saw 9\\nSkipping line 1229019: expected 8 fields, saw 10\\nSkipping line 1229712: expected 8 fields, saw 10\\nSkipping line 1230129: expected 8 fields, saw 9\\nSkipping line 1230732: expected 8 fields, saw 10\\n'\n",
      "b'Skipping line 1235980: expected 8 fields, saw 10\\nSkipping line 1236017: expected 8 fields, saw 9\\nSkipping line 1236088: expected 8 fields, saw 11\\n'\n",
      "b'Skipping line 1238758: expected 8 fields, saw 9\\n'\n",
      "b'Skipping line 1248990: expected 8 fields, saw 9\\nSkipping line 1252358: expected 8 fields, saw 9\\n'\n",
      "b'Skipping line 1261107: expected 8 fields, saw 10\\n'\n"
     ]
    },
    {
     "name": "stdout",
     "output_type": "stream",
     "text": [
      "312\n",
      "313\n",
      "314\n",
      "315\n",
      "316\n",
      "317\n",
      "318\n",
      "319\n",
      "320\n"
     ]
    },
    {
     "name": "stderr",
     "output_type": "stream",
     "text": [
      "b'Skipping line 1275446: expected 8 fields, saw 246\\n'\n",
      "b'Skipping line 1278796: expected 8 fields, saw 9\\n'\n",
      "b'Skipping line 1281530: expected 8 fields, saw 9\\n'\n",
      "b'Skipping line 1284747: expected 8 fields, saw 9\\nSkipping line 1284772: expected 8 fields, saw 9\\nSkipping line 1286812: expected 8 fields, saw 9\\n'\n",
      "b'Skipping line 1293676: expected 8 fields, saw 10\\n'\n",
      "b'Skipping line 1297370: expected 8 fields, saw 10\\nSkipping line 1298948: expected 8 fields, saw 10\\n'\n"
     ]
    },
    {
     "name": "stdout",
     "output_type": "stream",
     "text": [
      "321\n",
      "322\n",
      "323\n",
      "324\n",
      "325\n",
      "326\n",
      "327\n",
      "328\n"
     ]
    },
    {
     "name": "stderr",
     "output_type": "stream",
     "text": [
      "b'Skipping line 1313082: expected 8 fields, saw 10\\nSkipping line 1313644: expected 8 fields, saw 9\\n'\n",
      "b'Skipping line 1318750: expected 8 fields, saw 57\\nSkipping line 1318772: expected 8 fields, saw 9\\n'\n",
      "b'Skipping line 1324964: expected 8 fields, saw 10\\n'\n",
      "b'Skipping line 1332037: expected 8 fields, saw 10\\n'\n",
      "b'Skipping line 1345211: expected 8 fields, saw 10\\nSkipping line 1345609: expected 8 fields, saw 9\\n'\n"
     ]
    },
    {
     "name": "stdout",
     "output_type": "stream",
     "text": [
      "329\n",
      "330\n",
      "331\n",
      "332\n",
      "333\n",
      "334\n",
      "335\n",
      "336\n",
      "337\n",
      "338\n",
      "339\n",
      "340\n",
      "341\n",
      "342\n"
     ]
    },
    {
     "name": "stderr",
     "output_type": "stream",
     "text": [
      "b'Skipping line 1352971: expected 8 fields, saw 9\\nSkipping line 1353032: expected 8 fields, saw 9\\n'\n"
     ]
    }
   ],
   "source": [
    "data_iterator = pd.read_csv('googlebooks-eng-all-5gram-20120701-gu',sep='\\s+', header=None, chunksize=4000,error_bad_lines=False)\n",
    "\n",
    "chunk_list = []  \n",
    "chunknum = 0\n",
    "\n",
    "# Each chunk is in dataframe format\n",
    "for data_chunk in data_iterator:  \n",
    "    filtered_chunk = chunk_filtering_yearwise_data(data_chunk)\n",
    "    chunknum= chunknum + 1\n",
    "    print(chunknum)\n",
    "    chunk_list.append(filtered_chunk)\n",
    "    \n",
    "#filtered_data = pd.concat(chunk_list)"
   ]
  },
  {
   "cell_type": "code",
   "execution_count": null,
   "metadata": {},
   "outputs": [],
   "source": [
    "chunk_list.to_csv('1995-2005.csv') "
   ]
  },
  {
   "cell_type": "code",
   "execution_count": null,
   "metadata": {},
   "outputs": [],
   "source": [
    "filtered_data = pd.concat(chunk_list)"
   ]
  },
  {
   "cell_type": "code",
   "execution_count": null,
   "metadata": {},
   "outputs": [],
   "source": [
    "filtered_data.info()"
   ]
  },
  {
   "cell_type": "markdown",
   "metadata": {},
   "source": [
    "import codecs\n",
    "\n",
    "doc = codecs.open('googlebooks-eng-all-5gram-20120701-gq','rU','UTF-8') #open for reading with \"universal\" type set\n",
    "\n",
    "df = pd.read_csv(doc, sep='\\t')"
   ]
  },
  {
   "cell_type": "markdown",
   "metadata": {},
   "source": [
    "df.head()"
   ]
  }
 ],
 "metadata": {
  "kernelspec": {
   "display_name": "Python 3",
   "language": "python",
   "name": "python3"
  },
  "language_info": {
   "codemirror_mode": {
    "name": "ipython",
    "version": 3
   },
   "file_extension": ".py",
   "mimetype": "text/x-python",
   "name": "python",
   "nbconvert_exporter": "python",
   "pygments_lexer": "ipython3",
   "version": "3.7.6"
  }
 },
 "nbformat": 4,
 "nbformat_minor": 4
}
